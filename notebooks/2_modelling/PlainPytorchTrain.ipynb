{
 "cells": [
  {
   "cell_type": "code",
   "execution_count": 1,
   "id": "441884c9-1721-4a73-9bc1-0a5949a3f191",
   "metadata": {},
   "outputs": [],
   "source": [
    "import sys\n",
    "import os\n",
    "import time\n",
    "import numpy as np\n",
    "import pandas as pd\n",
    "\n",
    "import torchio as tio\n",
    "\n",
    "import matplotlib.pyplot as plt\n",
    "from ipywidgets import interact, IntSlider\n",
    "\n",
    "import torch\n",
    "import torch.nn as nn\n",
    "import torchvision.models as models\n",
    "from torchvision import transforms, utils\n",
    "import torch.optim as optim\n",
    "from torch.utils.data import Dataset, DataLoader, BatchSampler, Sampler\n",
    "\n",
    "sys.path.insert(0, '../../models/')\n",
    "sys.path.insert(0, '../../scripts/')\n",
    "sys.path.insert(0, '../../')\n",
    "\n",
    "from helpers import miscellaneous as misc\n",
    "from helpers import plotters\n",
    "from helpers import preprocessing\n",
    "CONFIG = misc.get_config()\n",
    "\n",
    "from ModelUtils import EncoderCNN\n",
    "from ModelUtils import CognitiveTestMLP\n",
    "from ModelUtils import FusionModel\n",
    "\n",
    "#get Loader.py\n",
    "from Loader import MRIDataset\n",
    "\n",
    "#get TrainUtils.py helpers\n",
    "from TrainUtils import train"
   ]
  },
  {
   "cell_type": "code",
   "execution_count": 2,
   "id": "ea79a6e4-dc87-41c3-8aa6-20e6cc929967",
   "metadata": {},
   "outputs": [
    {
     "name": "stdout",
     "output_type": "stream",
     "text": [
      "cuda\n"
     ]
    }
   ],
   "source": [
    "device = torch.device('cuda') if torch.cuda.is_available() else torch.device(\"cpu\")\n",
    "print(device)\n",
    "\n",
    "idx_to_label = {\n",
    "    'CN': 0,\n",
    "    'MCI': 1,\n",
    "    'AD': 2\n",
    "}"
   ]
  },
  {
   "cell_type": "code",
   "execution_count": 3,
   "id": "50dee4b9",
   "metadata": {
    "collapsed": false,
    "jupyter": {
     "outputs_hidden": false
    },
    "pycharm": {
     "name": "#%%\n"
    }
   },
   "outputs": [],
   "source": [
    "#transforms = None # equals no image pre-processing\n",
    "preprocessor = preprocessing.ADNIPreprocessing(CONFIG)\n",
    "#transforms = transforms.Compose([preprocessor.normalise()])\n",
    "\n",
    "# Initialize Image Transformation for model\n",
    "transforms = (\n",
    "    tio.CropOrPad((50, 50, 50)),\n",
    "    tio.RescaleIntensity(out_min_max=(-1, 1), in_min_max=(-1000, 1000))\n",
    ")\n",
    "transforms = tio.Compose(transforms)"
   ]
  },
  {
   "cell_type": "code",
   "execution_count": 4,
   "id": "c38ae616-6cc0-4c8b-a625-0851fc78ff1d",
   "metadata": {},
   "outputs": [
    {
     "name": "stdout",
     "output_type": "stream",
     "text": [
      "length dataset:  1699\n"
     ]
    }
   ],
   "source": [
    "# Set paths to results\n",
    "# Add this to config file\n",
    "metrics_path = CONFIG['METRICS_DIR']\n",
    "saved_models_path = CONFIG['SERIALIZED_MODELS']\n",
    "\n",
    "#get dataset \n",
    "#change parameters to match config file\n",
    "dataset = MRIDataset(\"../../\" + CONFIG['TRAIN_LABELS_DIR'], transform = transforms)\n",
    "\n",
    "#return dataloader with given parameters\n",
    "train_loader = DataLoader(\n",
    "    dataset = dataset,\n",
    "    batch_size = 64, \n",
    "    num_workers = 4, \n",
    "    shuffle = True,\n",
    "    pin_memory = True,\n",
    ")\n",
    "\n",
    "learning_rate = 0.01\n",
    "max_epochs = 1\n",
    "\n",
    "def weights_init(m):\n",
    "    if isinstance(m, nn.Conv2d) or isinstance(m, nn.Linear) or isinstance(m, nn.Conv3d):\n",
    "        torch.nn.init.xavier_uniform_(m.weight.data)\n",
    "\n",
    "# Initialize Model\n",
    "device = torch.device(\"cuda\" if torch.cuda.is_available() else \"cpu\")\n",
    "torch.cuda.empty_cache()\n",
    "model = EncoderCNN(3).to(device)\n",
    "model.apply(weights_init)\n",
    "optimizer = optim.Adam(model.parameters(), lr = learning_rate)\n",
    "print(\"length dataset: \", len(dataset))"
   ]
  },
  {
   "cell_type": "markdown",
   "id": "1f2a2971-af81-4453-9af8-e2e3555f6c3d",
   "metadata": {},
   "source": [
    "Process until it starts training is really long. So maybe another approach is better."
   ]
  },
  {
   "cell_type": "code",
   "execution_count": null,
   "id": "ab4ca771-a023-4e62-9139-32418799f516",
   "metadata": {},
   "outputs": [],
   "source": [
    "# %%time\n",
    "\n",
    "# Train model\n",
    "results = train(train_loader, model, optimizer, max_epochs, device)"
   ]
  },
  {
   "cell_type": "code",
   "execution_count": 7,
   "id": "18e80dac-c00c-4d53-8020-1bf9a7c43be8",
   "metadata": {},
   "outputs": [],
   "source": [
    "# Save model\n",
    "run_name = \"TEST-NeuronFusionExcessiveGigaNet-18\"\n",
    "results.to_csv(\"../../\" + metrics_path + run_name + \".csv\", index=False)\n",
    "torch.save(model, \"../../\" + saved_models_path + run_name + \".pth\")"
   ]
  }
 ],
 "metadata": {
  "kernelspec": {
   "display_name": "Python 3 (ipykernel)",
   "language": "python",
   "name": "python3"
  },
  "language_info": {
   "codemirror_mode": {
    "name": "ipython",
    "version": 3
   },
   "file_extension": ".py",
   "mimetype": "text/x-python",
   "name": "python",
   "nbconvert_exporter": "python",
   "pygments_lexer": "ipython3",
   "version": "3.9.7"
  }
 },
 "nbformat": 4,
 "nbformat_minor": 5
}
