{
 "cells": [
  {
   "cell_type": "code",
   "execution_count": 2,
   "id": "441884c9-1721-4a73-9bc1-0a5949a3f191",
   "metadata": {},
   "outputs": [],
   "source": [
    "import sys\n",
    "import os\n",
    "import time\n",
    "import numpy as np\n",
    "import pandas as pd\n",
    "\n",
    "import torchio as tio\n",
    "\n",
    "import matplotlib.pyplot as plt\n",
    "from ipywidgets import interact, IntSlider\n",
    "\n",
    "import torch\n",
    "import torch.nn as nn\n",
    "import torchvision.models as models\n",
    "import torch.optim as optim\n",
    "from torch.utils.data import Dataset, DataLoader, BatchSampler, Sampler\n",
    "\n",
    "sys.path.insert(0, '../../models/')\n",
    "sys.path.insert(0, '../../scripts/')\n",
    "\n",
    "from helpers import miscellaneous as misc\n",
    "from helpers import plotters\n",
    "CONFIG = misc.get_config()\n",
    "\n",
    "from ModelUtils import EncoderCNN\n",
    "from ModelUtils import CognitiveTestMLP\n",
    "from ModelUtils import FusionModel"
   ]
  },
  {
   "cell_type": "code",
   "execution_count": 3,
   "id": "ea79a6e4-dc87-41c3-8aa6-20e6cc929967",
   "metadata": {},
   "outputs": [
    {
     "name": "stdout",
     "output_type": "stream",
     "text": [
      "cuda\n"
     ]
    }
   ],
   "source": [
    "device = torch.device('cuda') if torch.cuda.is_available() else torch.device(\"cpu\")\n",
    "print(device)\n",
    "\n",
    "idx_to_label = {\n",
    "    'CN': 0,\n",
    "    'MCI': 1,\n",
    "    'AD': 2\n",
    "}"
   ]
  },
  {
   "cell_type": "code",
   "execution_count": 4,
   "id": "97cf42b7-efb3-402c-926c-00387826f219",
   "metadata": {},
   "outputs": [],
   "source": [
    "#get Loader.py\n",
    "from fhnw_ds_fs22_cdl1_cml1_Brain_Health_Challenge.models.Loader import MRIDataset\n",
    "\n",
    "#get TrainUtils.py helpers\n",
    "from fhnw_ds_fs22_cdl1_cml1_Brain_Health_Challenge.models.TrainUtils import train"
   ]
  },
  {
   "cell_type": "code",
   "execution_count": null,
   "outputs": [],
   "source": [
    "transforms = None # equals no image pre-processing"
   ],
   "metadata": {
    "collapsed": false,
    "pycharm": {
     "name": "#%%\n"
    }
   }
  },
  {
   "cell_type": "code",
   "execution_count": 5,
   "id": "c38ae616-6cc0-4c8b-a625-0851fc78ff1d",
   "metadata": {},
   "outputs": [
    {
     "ename": "NameError",
     "evalue": "name 'MRIDataset' is not defined",
     "output_type": "error",
     "traceback": [
      "\u001B[1;31m---------------------------------------------------------------------------\u001B[0m",
      "\u001B[1;31mNameError\u001B[0m                                 Traceback (most recent call last)",
      "\u001B[1;32m~\\AppData\\Local\\Temp/ipykernel_17976/3625237904.py\u001B[0m in \u001B[0;36m<module>\u001B[1;34m\u001B[0m\n\u001B[0;32m      6\u001B[0m \u001B[1;31m#get dataset\u001B[0m\u001B[1;33m\u001B[0m\u001B[1;33m\u001B[0m\u001B[0m\n\u001B[0;32m      7\u001B[0m \u001B[1;31m#change parameters to match config file\u001B[0m\u001B[1;33m\u001B[0m\u001B[1;33m\u001B[0m\u001B[0m\n\u001B[1;32m----> 8\u001B[1;33m \u001B[0mdataset\u001B[0m \u001B[1;33m=\u001B[0m \u001B[0mMRIDataset\u001B[0m\u001B[1;33m(\u001B[0m\u001B[1;34m\"data/raw/\"\u001B[0m\u001B[1;33m,\u001B[0m \u001B[1;34m\"data/CDR.csv\"\u001B[0m\u001B[1;33m,\u001B[0m \u001B[1;34m\"data/ADNI1.csv\"\u001B[0m\u001B[1;33m,\u001B[0m \u001B[0mtransform\u001B[0m \u001B[1;33m=\u001B[0m \u001B[0mtransforms\u001B[0m\u001B[1;33m)\u001B[0m\u001B[1;33m\u001B[0m\u001B[1;33m\u001B[0m\u001B[0m\n\u001B[0m\u001B[0;32m      9\u001B[0m \u001B[1;33m\u001B[0m\u001B[0m\n\u001B[0;32m     10\u001B[0m \u001B[1;31m#return dataloader with given parameters\u001B[0m\u001B[1;33m\u001B[0m\u001B[1;33m\u001B[0m\u001B[0m\n",
      "\u001B[1;31mNameError\u001B[0m: name 'MRIDataset' is not defined"
     ]
    }
   ],
   "source": [
    "\n",
    "# Set paths to results\n",
    "# Add this to config file\n",
    "metrics_path = CONFIG['METRICS_DIR']\n",
    "saved_models_path = CONFIG['SERIALIZED_MODELS']\n",
    "\n",
    "#get dataset \n",
    "#change parameters to match config file\n",
    "dataset = MRIDataset(CONFIG['FLATTEMED_DATA_DIR'], \"data/raw/data/tabular_data/CDR.csv\", \"data/ADNI1.csv\", transform = transforms)\n",
    "\n",
    "#return dataloader with given parameters\n",
    "train_loader = DataLoader(\n",
    "    dataset = dataset,\n",
    "    batch_size = 4, \n",
    "    num_workers = 8, \n",
    "    shuffle = True,\n",
    "    pin_memory = True,\n",
    ")\n",
    "\n",
    "learning_rate = 0.1\n",
    "max_epochs = 10\n",
    "\n",
    "# Initialize Model\n",
    "device = torch.device(\"cuda\" if torch.cuda.is_available() else \"cpu\")\n",
    "model = FusionModel(32, 32, 7, 8, 1).to(device)\n",
    "optimizer = optim.Adam(model.parameters(), lr = learning_rate)"
   ]
  },
  {
   "cell_type": "code",
   "execution_count": 6,
   "id": "ab4ca771-a023-4e62-9139-32418799f516",
   "metadata": {},
   "outputs": [
    {
     "ename": "NameError",
     "evalue": "name 'train' is not defined",
     "output_type": "error",
     "traceback": [
      "\u001B[1;31m---------------------------------------------------------------------------\u001B[0m",
      "\u001B[1;31mNameError\u001B[0m                                 Traceback (most recent call last)",
      "\u001B[1;32m~\\AppData\\Local\\Temp/ipykernel_17976/2854155172.py\u001B[0m in \u001B[0;36m<module>\u001B[1;34m\u001B[0m\n\u001B[0;32m      2\u001B[0m \u001B[1;33m\u001B[0m\u001B[0m\n\u001B[0;32m      3\u001B[0m \u001B[1;31m# Train model\u001B[0m\u001B[1;33m\u001B[0m\u001B[1;33m\u001B[0m\u001B[0m\n\u001B[1;32m----> 4\u001B[1;33m \u001B[0mresults\u001B[0m \u001B[1;33m=\u001B[0m \u001B[0mtrain\u001B[0m\u001B[1;33m(\u001B[0m\u001B[0mtrain_loader\u001B[0m\u001B[1;33m,\u001B[0m \u001B[0mmodel\u001B[0m\u001B[1;33m,\u001B[0m \u001B[0moptimizer\u001B[0m\u001B[1;33m,\u001B[0m \u001B[0mmax_epochs\u001B[0m\u001B[1;33m,\u001B[0m \u001B[0mdevice\u001B[0m\u001B[1;33m)\u001B[0m\u001B[1;33m\u001B[0m\u001B[1;33m\u001B[0m\u001B[0m\n\u001B[0m\u001B[0;32m      5\u001B[0m \u001B[1;33m\u001B[0m\u001B[0m\n\u001B[0;32m      6\u001B[0m \u001B[1;31m# Save model\u001B[0m\u001B[1;33m\u001B[0m\u001B[1;33m\u001B[0m\u001B[0m\n",
      "\u001B[1;31mNameError\u001B[0m: name 'train' is not defined"
     ]
    }
   ],
   "source": [
    "# %%time\n",
    "\n",
    "# Train model\n",
    "results = train(train_loader, model, optimizer, max_epochs, device)\n",
    "\n",
    "# Save model\n",
    "run_name = \"TEST-NeuronFusionExcessiveGigaNet-18\"\n",
    "results.to_csv(metrics_path + run_name + \".csv\", index=False)\n",
    "torch.save(model, saved_models_path + run_name + \".pth\")"
   ]
  }
 ],
 "metadata": {
  "kernelspec": {
   "display_name": "Python 3 (ipykernel)",
   "language": "python",
   "name": "python3"
  },
  "language_info": {
   "codemirror_mode": {
    "name": "ipython",
    "version": 3
   },
   "file_extension": ".py",
   "mimetype": "text/x-python",
   "name": "python",
   "nbconvert_exporter": "python",
   "pygments_lexer": "ipython3",
   "version": "3.9.7"
  }
 },
 "nbformat": 4,
 "nbformat_minor": 5
}