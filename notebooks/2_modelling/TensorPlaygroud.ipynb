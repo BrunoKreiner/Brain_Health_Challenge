{
 "cells": [
  {
   "cell_type": "code",
   "execution_count": 267,
   "id": "a1f75ad9-eb31-4227-b79b-f45567aaf907",
   "metadata": {},
   "outputs": [],
   "source": [
    "import torchio as tio\n",
    "from tqdm.notebook import tqdm\n",
    "from torch.utils.data import Dataset, DataLoader\n",
    "import matplotlib.pyplot as plt\n",
    "import os\n",
    "import sys\n",
    "sys.path.insert(0, '../../scripts/')\n",
    "from helpers import miscellaneous as misc\n",
    "from helpers import plotters\n",
    "from helpers import preprocessing\n",
    "CONFIG = misc.get_config()\n",
    "\n",
    "img_dir = '../../' + CONFIG['FLATTENED_DATA_DIR']\n",
    "\n",
    "img_ids = os.listdir(img_dir)"
   ]
  },
  {
   "cell_type": "code",
   "execution_count": 268,
   "id": "91164c8e-733f-4da4-96bf-9e7c6eff9097",
   "metadata": {},
   "outputs": [],
   "source": [
    "DEVICE = CONFIG['DEVICE']\n",
    "LEARNING_RATE = CONFIG['LEARNING_RATE']\n",
    "BATCH_SIZE = CONFIG['BATCH_SIZE']\n",
    "EPOCHS = CONFIG['EPOCHS']\n",
    "TRANSFORMER = CONFIG['TRANSFORMER']\n",
    "TRAIN_SET = '../' + CONFIG['TEST_LABELS_DIR']\n",
    "TEST_SET = '../' + CONFIG['TEST_LABELS_DIR']\n",
    "RAW_DATA = '../' + CONFIG['FLATTENED_DATA_DIR']\n",
    "PLOT_DIR = '../' + CONFIG['PLOT_DIR_BINARY']"
   ]
  },
  {
   "cell_type": "code",
   "execution_count": 328,
   "id": "ed3af372-8955-4300-b362-f4b056129c8e",
   "metadata": {},
   "outputs": [],
   "source": [
    "import torchio as tio\n",
    "import torch\n",
    "import torch.nn as nn\n",
    "import numpy as np\n",
    "from torch.utils.data import Dataset\n",
    "import pandas as pd\n",
    "import os\n",
    "from sklearn.utils import shuffle\n",
    "\n",
    "class MRIDataset(Dataset):\n",
    "    \"\"\"\n",
    "    Implements __getitem__ method to get items for batches\n",
    "    Attributes\n",
    "    ----------\n",
    "    image_path (string): Path to the image folder\n",
    "    test_path (string: Path to where tabular data is stored\n",
    "    annotation_path (string): path to annotation where label is stored\n",
    "    transform (object, callable): Optional transform to be applied\n",
    "        on a sample.\n",
    "    labels: labels extracted from annotation_path\n",
    "    images: iterable list of paths to all images (could also be images themselves)\n",
    "    test_results: test results extracted from test_path\n",
    "    ----------\n",
    "    Methods\n",
    "    ----------\n",
    "    forward(images): takes images and does forward feed calculation\n",
    "    \"\"\"\n",
    "    def __init__(self, dataset_path, shuffle_ = True, transform=None, nslice=None, dimension=1):\n",
    "        \"\"\"\n",
    "        Parameters:\n",
    "            image_path (string): Path to the image folder\n",
    "            test_path (string: Path to where tabular data is stored\n",
    "            annotation_path (string): path to annotation where label is stored\n",
    "            transform (object, callable): Optional transform to be applied\n",
    "                on a sample.\n",
    "        \"\"\"\n",
    "        self.dataset_path = dataset_path\n",
    "        self.transform = transform\n",
    "        # fixme should be handled in another way. maybe in configuration file?\n",
    "        self.idx_to_label = {\n",
    "            'CN': 0,\n",
    "            'MCI': 1,\n",
    "            'AD': 2\n",
    "        }\n",
    "        self.nslice=nslice\n",
    "        self.dimension=dimension\n",
    "        \n",
    "        \n",
    "        self.df = pd.read_csv(self.dataset_path)\n",
    "        \n",
    "        if shuffle_ == True:\n",
    "            self.df = shuffle(self.df)\n",
    "        \n",
    "        # fix this while generating train/test split\n",
    "        self.df.dropna(subset=['filename'], how='all', inplace=True)\n",
    "\n",
    "    def __len__(self):\n",
    "        \"\"\"\n",
    "        returns amount of images in total\n",
    "        \"\"\"\n",
    "        return len(self.df)\n",
    "\n",
    "    def __getitem__(self, idx):\n",
    "        \"\"\"\n",
    "        Parameters:\n",
    "            idx (int): index to image\n",
    "        \"\"\"\n",
    "        \n",
    "        #switch case for each individual cognitive test?\n",
    "        \"\"\"test_results = self.test_results[[\"CDMEMORY\", \"CDORIENT\", \"CDJUDGE\", \"CDCOMMUN\", \"CDHOME\", \"CDCARE\", \"CDGLOBAL\"]].sample(n=1)\n",
    "        test_results = torch.from_numpy(test_results.to_numpy().astype(np.float32))\"\"\"\n",
    "\n",
    "        img = tio.ScalarImage('../' + self.df.iloc[idx].filename)\n",
    "        \n",
    "        #get image and caption by id\n",
    "        label = self.df.iloc[idx].Group\n",
    "        label = self.idx_to_label[label]\n",
    "        label = nn.functional.one_hot(torch.tensor(label), num_classes = 3).to(torch.float32)\n",
    "            \n",
    "        if self.nslice == 'Center':\n",
    "            self.nslice = img.data.size(self.dimension)//2\n",
    "            \n",
    "        if self.nslice:\n",
    "            if self.dimension == 1:\n",
    "                assert img.data.size()[1] >= self.nslice, f'[WARN] Nslice is too large. Max allowed: {img.data.size()[1]}'\n",
    "                img.data = img.data[:, self.nslice, :, :]\n",
    "            elif self.dimension == 2:\n",
    "                assert img.data.size()[2] >= self.nslice, f'[WARN] Nslice is too large. Max allowed: {img.data.size()[2]}'\n",
    "                img = img.data[:, :, self.nslice, :]\n",
    "            elif self.dimension == 3:\n",
    "                assert img.data.size()[3] >= self.nslice, f'[WARN] Nslice is too large. Max allowed: {img.data.size()[3]}'\n",
    "                img = img.data[:, :, :, self.nslice]\n",
    "                \n",
    "        if self.transform is not None:\n",
    "            img = self.transform(img)\n",
    "\n",
    "        return {\"images\": img.data, \"labels\": label } #, test_results"
   ]
  },
  {
   "cell_type": "code",
   "execution_count": 329,
   "id": "af90b30a-0f4b-44e6-8c9a-0956554601cc",
   "metadata": {},
   "outputs": [],
   "source": [
    "data= MRIDataset(dataset_path='../' + TRAIN_SET, transform=None, nslice='Center', dimension=2)"
   ]
  },
  {
   "cell_type": "code",
   "execution_count": 330,
   "id": "c6e75fb2-f8b5-4a66-9c97-e0aeb602dc1d",
   "metadata": {},
   "outputs": [],
   "source": [
    "dataloader = DataLoader(data, batch_size=2, shuffle=True)\n"
   ]
  },
  {
   "cell_type": "code",
   "execution_count": 333,
   "id": "f4ba54b1-8d2a-427f-a84e-a1048ad0d600",
   "metadata": {},
   "outputs": [],
   "source": [
    "# Display image and label.\n",
    "result = next(iter(dataloader))\n",
    "train_features, train_labels = result['images'], result['labels']"
   ]
  },
  {
   "cell_type": "code",
   "execution_count": 334,
   "id": "9a9d9eec-7764-45bc-8fa8-8b838b855295",
   "metadata": {},
   "outputs": [
    {
     "data": {
      "text/plain": [
       "torch.Size([2, 1, 256, 166])"
      ]
     },
     "execution_count": 334,
     "metadata": {},
     "output_type": "execute_result"
    }
   ],
   "source": [
    "train_features.data.size()"
   ]
  },
  {
   "cell_type": "code",
   "execution_count": 335,
   "id": "7da6fbd2-eb68-41ec-95b8-a7af37146bdf",
   "metadata": {},
   "outputs": [
    {
     "data": {
      "image/png": "[encoded data removed]",
      "text/plain": [
       "<Figure size 432x288 with 1 Axes>"
      ]
     },
     "metadata": {
      "needs_background": "light"
     },
     "output_type": "display_data"
    },
    {
     "name": "stdout",
     "output_type": "stream",
     "text": [
      "Label: tensor([0., 0., 1.])\n"
     ]
    }
   ],
   "source": [
    "# plot 2d\n",
    "img = train_features.data.squeeze(dim=1)[0]\n",
    "label = train_labels[0]\n",
    "plt.imshow(img, cmap=\"gray\")\n",
    "plt.show()\n",
    "print(f\"Label: {label}\")"
   ]
  },
  {
   "cell_type": "code",
   "execution_count": null,
   "id": "a1bad2a9-15a7-41ed-8c01-db2a3025a700",
   "metadata": {},
   "outputs": [],
   "source": []
  }
 ],
 "metadata": {
  "kernelspec": {
   "display_name": "Python 3 (ipykernel)",
   "language": "python",
   "name": "python3"
  },
  "language_info": {
   "codemirror_mode": {
    "name": "ipython",
    "version": 3
   },
   "file_extension": ".py",
   "mimetype": "text/x-python",
   "name": "python",
   "nbconvert_exporter": "python",
   "pygments_lexer": "ipython3",
   "version": "3.9.7"
  }
 },
 "nbformat": 4,
 "nbformat_minor": 5
}
