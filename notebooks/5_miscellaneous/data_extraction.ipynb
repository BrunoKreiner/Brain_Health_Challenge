{
 "cells": [
  {
   "cell_type": "markdown",
   "metadata": {
    "pycharm": {
     "name": "#%% md\n"
    }
   },
   "source": [
    "# Data Extraction\n",
    "This notebooks contains functionality to extract images from the data folder or flatten their structure into a more managable flat structure."
   ]
  },
  {
   "cell_type": "code",
   "execution_count": 9,
   "metadata": {
    "collapsed": false,
    "jupyter": {
     "outputs_hidden": false
    },
    "pycharm": {
     "name": "#%%\n"
    }
   },
   "outputs": [
    {
     "name": "stdout",
     "output_type": "stream",
     "text": [
      "D:\\FHNW\\Challenges\\fhnw_ds_fs22_cdl1_cml1_Brain_Health_Challenge\\notebooks\\5_miscellaneous\n"
     ]
    }
   ],
   "source": [
    "import os\n",
    "import glob\n",
    "import shutil\n",
    "from pathlib import Path\n",
    "import nibabel\n",
    "from tqdm.notebook import tqdm\n",
    "print(os.getcwd())\n",
    "\n",
    "import sys\n",
    "sys.path.insert(0, '../../scripts/')\n",
    "\n",
    "from helpers import miscellaneous as m\n",
    "CONFIG = m.get_config()"
   ]
  },
  {
   "cell_type": "code",
   "execution_count": 10,
   "metadata": {
    "collapsed": false,
    "jupyter": {
     "outputs_hidden": false
    },
    "pycharm": {
     "name": "#%%\n"
    }
   },
   "outputs": [
    {
     "data": {
      "text/plain": [
       "{'RAW_DATA_DIR': 'data/raw/',\n",
       " 'PROCESSED_DATA_DIR': 'data/processed/',\n",
       " 'FLATTENED_DATA_DIR': 'data/raw/flattened',\n",
       " 'DEVICE': 'gpu',\n",
       " 'COLOR_SEQUENTIAL': 'inferno',\n",
       " 'COLOR_DISCRETE': 'Paired',\n",
       " 'RANDOM_STATE': '42'}"
      ]
     },
     "execution_count": 10,
     "metadata": {},
     "output_type": "execute_result"
    }
   ],
   "source": [
    "CONFIG"
   ]
  },
  {
   "cell_type": "markdown",
   "metadata": {},
   "source": [
    "### Flattening the nested data structure"
   ]
  },
  {
   "cell_type": "code",
   "execution_count": 3,
   "metadata": {
    "collapsed": false,
    "jupyter": {
     "outputs_hidden": false
    },
    "pycharm": {
     "name": "#%%\n"
    }
   },
   "outputs": [],
   "source": [
    "# get list of all nii files\n",
    "nii_files = glob.glob('../../' + CONFIG[\"RAW_DATA_DIR\"] + '**/*.nii', recursive=True)\n",
    "root, dirs, file_names = m.get_file_names('../../' + CONFIG[\"RAW_DATA_DIR\"], '.nii', return_all = True)\n",
    "assert len(file_names) == len(nii_files)"
   ]
  },
  {
   "cell_type": "code",
   "execution_count": 13,
   "metadata": {
    "collapsed": false,
    "jupyter": {
     "outputs_hidden": false
    },
    "pycharm": {
     "name": "#%%\n"
    }
   },
   "outputs": [],
   "source": [
    "def copy_to_flat() -> None:\n",
    "    \"\"\"\n",
    "    Copies all .nii files in CONFIG[\"RAW_DATA_DIR\"] to CONFIG[\"FLATTENED_DATA_DIR\"]\n",
    "    :return: None\n",
    "    \"\"\"\n",
    "    destination = CONFIG[\"FLATTENED_DATA_DIR\"]\n",
    "    nii_files = glob.glob('../../' + CONFIG[\"RAW_DATA_DIR\"] + '**/*.nii', recursive=True)\n",
    "    for file in tqdm(nii_files):\n",
    "        shutil.copy2(Path(file), '../../' + destination)\n",
    "\n",
    "# if you wish to copy all .nii files into a flat datastructure run the next line:\n",
    "# copy_to_flat()"
   ]
  },
  {
   "cell_type": "markdown",
   "metadata": {
    "pycharm": {
     "name": "#%% md\n"
    }
   },
   "source": [
    "###"
   ]
  }
 ],
 "metadata": {
  "kernelspec": {
   "display_name": "Python 3 (ipykernel)",
   "language": "python",
   "name": "python3"
  },
  "language_info": {
   "codemirror_mode": {
    "name": "ipython",
    "version": 3
   },
   "file_extension": ".py",
   "mimetype": "text/x-python",
   "name": "python",
   "nbconvert_exporter": "python",
   "pygments_lexer": "ipython3",
   "version": "3.9.7"
  }
 },
 "nbformat": 4,
 "nbformat_minor": 4
}
