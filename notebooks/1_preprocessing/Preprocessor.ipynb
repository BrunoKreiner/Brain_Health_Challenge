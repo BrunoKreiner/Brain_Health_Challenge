{
 "cells": [
  {
   "cell_type": "markdown",
   "id": "492c9abe",
   "metadata": {},
   "source": [
    "# Preprocessor\n",
    "\n",
    "This notebook takes all images and feeds them to the preprocess function and saves them into CONFIG[\"PROCESSED_DATA_DIR\"]."
   ]
  },
  {
   "cell_type": "code",
   "execution_count": 5,
   "id": "f68f5ad9",
   "metadata": {},
   "outputs": [],
   "source": [
    "import torchio as tio\n",
    "from tqdm.notebook import tqdm\n",
    "from torch.utils.data import Dataset, DataLoader\n",
    "import os\n",
    "import sys\n",
    "sys.path.insert(0, '../../scripts/')\n",
    "from helpers import miscellaneous as misc\n",
    "from helpers import plotters\n",
    "from helpers import preprocessing\n",
    "CONFIG = misc.get_config()\n",
    "\n",
    "preprocess = tio.Compose([\n",
    "            tio.RescaleIntensity((-1, 1)),\n",
    "            tio.Resample((1,1,1)),\n",
    "            tio.EnsureShapeMultiple(8),\n",
    "            tio.Resize((150,150,100)),\n",
    "            tio.OneHot()\n",
    "        ])\n",
    "\n",
    "img_dir = '../../' + CONFIG['FLATTENED_DATA_DIR']\n",
    "\n",
    "img_ids = os.listdir(img_dir)"
   ]
  },
  {
   "cell_type": "code",
   "execution_count": 2,
   "id": "1e4deee6",
   "metadata": {},
   "outputs": [],
   "source": [
    "\"\"\"class MRIDataset(Dataset):\n",
    "    def __init__(self, files, preprocess):\n",
    "        self.files = files\n",
    "        self.preprocess = preprocess\n",
    "        \n",
    "    def __len__(self):\n",
    "        return len(self.files)\n",
    "\n",
    "    def __getitem__(self, idx):\n",
    "        print(idx)\n",
    "        img = tio.ScalarImage('../../' + CONFIG['FLATTENED_DATA_DIR'] + self.files[idx])\n",
    "        img = self.preprocess(img)\n",
    "        img.save(\"../../\" + CONFIG[\"PROCESSED_DATA_DIR\"] + self.files[idx])\n",
    "        return {\"images\": img, \"labels\": \"a\"}\"\"\""
   ]
  },
  {
   "cell_type": "code",
   "execution_count": 7,
   "id": "2963e4a2",
   "metadata": {},
   "outputs": [
    {
     "data": {
      "application/vnd.jupyter.widget-view+json": {
       "model_id": "2e45777b26ac4d919326fb8917883b07",
       "version_major": 2,
       "version_minor": 0
      },
      "text/plain": [
       "  0%|          | 0/2126 [00:00<?, ?it/s]"
      ]
     },
     "metadata": {},
     "output_type": "display_data"
    },
    {
     "name": "stdout",
     "output_type": "stream",
     "text": [
      "The following file couldn't be processed and is not being safed in data/processed/: ../../data/raw/flattened/ADNI_010_S_0067_MR_MPR-R____N3__Scaled_Br_20070807151408143_S17808_I65577.nii\n",
      "The following file couldn't be processed and is not being safed in data/processed/: ../../data/raw/flattened/ADNI_021_S_0141_MR_MPR__GradWarp__N3__Scaled_Br_20061217092830688_S11036_I33396.nii\n",
      "The following file couldn't be processed and is not being safed in data/processed/: ../../data/raw/flattened/ADNI_023_S_0926_MR_MPR__GradWarp__B1_Correction__N3__Scaled_Br_20061203145312272_S19390_I31547.nii\n",
      "The following file couldn't be processed and is not being safed in data/processed/: ../../data/raw/flattened/ADNI_067_S_0019_MR_MPR__GradWarp__B1_Correction__N3__Scaled_Br_20070319180308737_S9539_I45228.nii\n",
      "The following file couldn't be processed and is not being safed in data/processed/: ../../data/raw/flattened/ADNI_073_S_0089_MR_MPR__GradWarp__B1_Correction__N3__Scaled_Br_20071103125940770_S18499_I80648.nii\n"
     ]
    },
    {
     "name": "stderr",
     "output_type": "stream",
     "text": [
      "C:\\Users\\bruno\\anaconda3\\lib\\site-packages\\torchio\\transforms\\preprocessing\\spatial\\resize.py:70: UserWarning: Output shape (150, 150, 101) != target shape (150, 150, 100). Fixing with CropOrPad\n",
      "  warnings.warn(message)\n"
     ]
    },
    {
     "name": "stdout",
     "output_type": "stream",
     "text": [
      "CPU times: total: 1h 19min 9s\n",
      "Wall time: 21min 8s\n"
     ]
    }
   ],
   "source": [
    "%%time\n",
    "\n",
    "pbar = tqdm(total=len(img_ids))\n",
    "\n",
    "for idx in img_ids:\n",
    "    img = tio.ScalarImage('../../' + CONFIG['FLATTENED_DATA_DIR'] + idx)\n",
    "    try:\n",
    "        img = preprocess(img)\n",
    "        img.save(\"../../\" + CONFIG[\"PROCESSED_DATA_DIR\"] + idx)\n",
    "    except:\n",
    "        print(f\"The following file couldn't be processed and is not being safed in {CONFIG['PROCESSED_DATA_DIR']}: ../../{CONFIG['FLATTENED_DATA_DIR'] + idx}\")\n",
    "    pbar.update(n=1)"
   ]
  },
  {
   "cell_type": "code",
   "execution_count": null,
   "id": "3603085d",
   "metadata": {},
   "outputs": [
    {
     "name": "stdout",
     "output_type": "stream",
     "text": [
      "\n",
      "Creating subjects loader with 12 workers\n"
     ]
    }
   ],
   "source": [
    "\"\"\"train_set = MRIDataset(img_ids, preprocess)\n",
    "\n",
    "sampler = tio.data.UniformSampler(96)\n",
    "queue_dataset = tio.Queue(\n",
    "        train_set,\n",
    "        300,\n",
    "        10,\n",
    "        sampler,\n",
    "        num_workers=12,\n",
    "        verbose=True,\n",
    "    )\n",
    "batch_loader = DataLoader(queue_dataset, batch_size=12)\n",
    "batches_progress = tqdm(batch_loader, leave=False)\n",
    "print(\"begin\")\n",
    "for batch in batches_progress:\n",
    "    print(batch)\"\"\""
   ]
  }
 ],
 "metadata": {
  "kernelspec": {
   "display_name": "Python 3 (ipykernel)",
   "language": "python",
   "name": "python3"
  },
  "language_info": {
   "codemirror_mode": {
    "name": "ipython",
    "version": 3
   },
   "file_extension": ".py",
   "mimetype": "text/x-python",
   "name": "python",
   "nbconvert_exporter": "python",
   "pygments_lexer": "ipython3",
   "version": "3.9.7"
  }
 },
 "nbformat": 4,
 "nbformat_minor": 5
}
