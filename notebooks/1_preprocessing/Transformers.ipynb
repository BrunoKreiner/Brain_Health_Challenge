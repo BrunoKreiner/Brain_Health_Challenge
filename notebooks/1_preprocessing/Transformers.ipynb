{
 "cells": [
  {
   "cell_type": "code",
   "execution_count": null,
   "id": "3e857140-7f57-448e-b624-4484503ae2bf",
   "metadata": {},
   "outputs": [],
   "source": [
    "import sys\n",
    "import torchio as tio\n",
    "import pandas as pd \n",
    "import numpy as np\n",
    "from torchvision.utils import save_image\n",
    "from torch.utils.data import DataLoader\n",
    "\n",
    "import matplotlib.pyplot as plt\n",
    "from PIL import Image\n",
    "from tqdm.notebook import tqdm\n",
    "\n",
    "\n",
    "sys.path.insert(0, '../../scripts/')\n",
    "from data_loader import get_data_loader\n",
    "from helpers.preprocessing2d import get_transformer\n",
    "from helpers import miscellaneous as misc\n",
    "\n",
    "CONFIG = misc.get_config()"
   ]
  },
  {
   "cell_type": "code",
   "execution_count": null,
   "id": "babcf991-a2d0-4a00-b9d5-068e22e23bb8",
   "metadata": {},
   "outputs": [],
   "source": [
    "data_loader = get_data_loader()\n",
    "transformer_test, transformer_train = get_transformer(CONFIG['TRANSFORMER'])\n",
    "train_loader = data_loader('../../' + CONFIG['TRAIN_LABELS_DIR'], transform=transformer_test, dimension=1, nslice='Center')"
   ]
  },
  {
   "cell_type": "code",
   "execution_count": null,
   "id": "8563c884-8266-4f40-a127-bcec3c527d6c",
   "metadata": {},
   "outputs": [],
   "source": [
    "train_iter = iter(train_loader)"
   ]
  },
  {
   "cell_type": "code",
   "execution_count": null,
   "id": "41f4ab06-600a-42f2-b132-628284ab03d7",
   "metadata": {},
   "outputs": [],
   "source": [
    "next(train_iter)"
   ]
  }
 ],
 "metadata": {
  "kernelspec": {
   "display_name": "Python 3 (ipykernel)",
   "language": "python",
   "name": "python3"
  },
  "language_info": {
   "codemirror_mode": {
    "name": "ipython",
    "version": 3
   },
   "file_extension": ".py",
   "mimetype": "text/x-python",
   "name": "python",
   "nbconvert_exporter": "python",
   "pygments_lexer": "ipython3",
   "version": "3.9.7"
  }
 },
 "nbformat": 4,
 "nbformat_minor": 5
}
