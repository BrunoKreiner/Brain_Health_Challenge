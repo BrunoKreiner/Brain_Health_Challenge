{
 "cells": [
  {
   "cell_type": "code",
   "execution_count": 2,
   "id": "bb8564f2",
   "metadata": {
    "scrolled": true
   },
   "outputs": [
    {
     "name": "stdout",
     "output_type": "stream",
     "text": [
      "Collecting batchgenerators\n",
      "  Cloning https://github.com/MIC-DKFZ/batchgenerators to c:\\users\\bruno\\appdata\\local\\temp\\pip-install-2d294est\\batchgenerators_6384923d26994f4baa1294a17a970dc1\n",
      "  Resolved https://github.com/MIC-DKFZ/batchgenerators to commit d0b9c45713347808e59a6ab3bb1500b58e034f74\n",
      "Requirement already satisfied: pillow>=7.1.2 in c:\\users\\bruno\\anaconda3\\lib\\site-packages (from batchgenerators) (8.4.0)\n",
      "Requirement already satisfied: numpy>=1.10.2 in c:\\users\\bruno\\anaconda3\\lib\\site-packages (from batchgenerators) (1.20.3)\n",
      "Requirement already satisfied: scipy in c:\\users\\bruno\\anaconda3\\lib\\site-packages (from batchgenerators) (1.7.3)\n",
      "Requirement already satisfied: scikit-image in c:\\users\\bruno\\anaconda3\\lib\\site-packages (from batchgenerators) (0.18.3)\n",
      "Requirement already satisfied: scikit-learn in c:\\users\\bruno\\anaconda3\\lib\\site-packages (from batchgenerators) (1.0.2)\n",
      "Requirement already satisfied: future in c:\\users\\bruno\\anaconda3\\lib\\site-packages (from batchgenerators) (0.18.2)\n",
      "Requirement already satisfied: unittest2 in c:\\users\\bruno\\anaconda3\\lib\\site-packages (from batchgenerators) (1.1.0)\n",
      "Requirement already satisfied: threadpoolctl in c:\\users\\bruno\\anaconda3\\lib\\site-packages (from batchgenerators) (2.2.0)\n",
      "Requirement already satisfied: matplotlib!=3.0.0,>=2.0.0 in c:\\users\\bruno\\anaconda3\\lib\\site-packages (from scikit-image->batchgenerators) (3.5.0)\n",
      "Requirement already satisfied: networkx>=2.0 in c:\\users\\bruno\\anaconda3\\lib\\site-packages (from scikit-image->batchgenerators) (2.6.3)\n",
      "Requirement already satisfied: imageio>=2.3.0 in c:\\users\\bruno\\anaconda3\\lib\\site-packages (from scikit-image->batchgenerators) (2.9.0)\n",
      "Requirement already satisfied: tifffile>=2019.7.26 in c:\\users\\bruno\\anaconda3\\lib\\site-packages (from scikit-image->batchgenerators) (2021.7.2)\n",
      "Requirement already satisfied: PyWavelets>=1.1.1 in c:\\users\\bruno\\anaconda3\\lib\\site-packages (from scikit-image->batchgenerators) (1.1.1)\n",
      "Requirement already satisfied: kiwisolver>=1.0.1 in c:\\users\\bruno\\anaconda3\\lib\\site-packages (from matplotlib!=3.0.0,>=2.0.0->scikit-image->batchgenerators) (1.3.1)\n",
      "Requirement already satisfied: fonttools>=4.22.0 in c:\\users\\bruno\\anaconda3\\lib\\site-packages (from matplotlib!=3.0.0,>=2.0.0->scikit-image->batchgenerators) (4.25.0)\n",
      "Requirement already satisfied: packaging>=20.0 in c:\\users\\bruno\\anaconda3\\lib\\site-packages (from matplotlib!=3.0.0,>=2.0.0->scikit-image->batchgenerators) (21.3)\n",
      "Requirement already satisfied: python-dateutil>=2.7 in c:\\users\\bruno\\anaconda3\\lib\\site-packages (from matplotlib!=3.0.0,>=2.0.0->scikit-image->batchgenerators) (2.8.2)\n",
      "Requirement already satisfied: pyparsing>=2.2.1 in c:\\users\\bruno\\anaconda3\\lib\\site-packages (from matplotlib!=3.0.0,>=2.0.0->scikit-image->batchgenerators) (3.0.4)\n",
      "Requirement already satisfied: cycler>=0.10 in c:\\users\\bruno\\anaconda3\\lib\\site-packages (from matplotlib!=3.0.0,>=2.0.0->scikit-image->batchgenerators) (0.11.0)\n",
      "Requirement already satisfied: six>=1.5 in c:\\users\\bruno\\anaconda3\\lib\\site-packages (from python-dateutil>=2.7->matplotlib!=3.0.0,>=2.0.0->scikit-image->batchgenerators) (1.16.0)\n",
      "Requirement already satisfied: joblib>=0.11 in c:\\users\\bruno\\anaconda3\\lib\\site-packages (from scikit-learn->batchgenerators) (1.0.1)\n",
      "Collecting argparse\n",
      "  Using cached argparse-1.4.0-py2.py3-none-any.whl (23 kB)\n",
      "Requirement already satisfied: traceback2 in c:\\users\\bruno\\anaconda3\\lib\\site-packages (from unittest2->batchgenerators) (1.4.0)\n",
      "Requirement already satisfied: linecache2 in c:\\users\\bruno\\anaconda3\\lib\\site-packages (from traceback2->unittest2->batchgenerators) (1.0.0)\n",
      "Installing collected packages: argparse\n",
      "Successfully installed argparse-1.4.0\n"
     ]
    },
    {
     "name": "stderr",
     "output_type": "stream",
     "text": [
      "  Running command git clone -q https://github.com/MIC-DKFZ/batchgenerators 'C:\\Users\\bruno\\AppData\\Local\\Temp\\pip-install-2d294est\\batchgenerators_6384923d26994f4baa1294a17a970dc1'\n"
     ]
    }
   ],
   "source": [
    "!pip install \"git+https://github.com/MIC-DKFZ/batchgenerators#egg=batchgenerators\""
   ]
  },
  {
   "cell_type": "markdown",
   "id": "1ec8f72f",
   "metadata": {},
   "source": [
    "[HDBet](https://www.markdownguide.org) is a brain extraction tool that uses a deep neural network to do skull-stripping using a 60mb model. The model is probably too big for our goals because it takes several seconds per MRI to process. It also needs a lot of GPU memory (5-6gb) since more than 2GiB is reserved for PyTorch."
   ]
  },
  {
   "cell_type": "code",
   "execution_count": 3,
   "id": "5c613df5",
   "metadata": {},
   "outputs": [
    {
     "name": "stdout",
     "output_type": "stream",
     "text": [
      "\n",
      "########################\n",
      "If you are using hd-bet, please cite the following paper:\n",
      "Isensee F, Schell M, Tursunova I, Brugnara G, Bonekamp D, Neuberger U, Wick A, Schlemmer HP, Heiland S, Wick W,Bendszus M, Maier-Hein KH, Kickingereder P. Automated brain extraction of multi-sequence MRI using artificialneural networks. arXiv preprint arXiv:1901.11341, 2019.\n",
      "########################\n",
      "\n",
      "File: ../../data/processed/ADNI_002_S_0295_MR_MPR__GradWarp__B1_Correction__N3__Scaled_2_Br_20081001114556321_S13408_I118671.nii\n",
      "preprocessing...\n",
      "image shape after preprocessing:  (133, 160, 165)\n",
      "prediction (CNN id)...\n",
      "0\n"
     ]
    },
    {
     "name": "stderr",
     "output_type": "stream",
     "text": [
      "Traceback (most recent call last):\n",
      "  File \"Z:\\brain-health\\fhnw_ds_fs22_cdl1_cml1_Brain_Health_Challenge\\scripts\\HD_BET\\hd_bet.py\", line 123, in <module>\n",
      "    run_hd_bet(input_files, output_files, mode, config_file, device, pp, tta, save_mask, overwrite_existing)\n",
      "  File \"Z:\\brain-health\\fhnw_ds_fs22_cdl1_cml1_Brain_Health_Challenge\\scripts\\HD_BET\\run.py\", line 99, in run_hd_bet\n",
      "    _, _, softmax_pred, _ = predict_case_3D_net(net, data, do_tta, cf.val_num_repeats,\n",
      "  File \"Z:\\brain-health\\fhnw_ds_fs22_cdl1_cml1_Brain_Health_Challenge\\notebooks\\1_preprocessing\\../../scripts\\HD_BET\\predict_case.py\", line 100, in predict_case_3D_net\n",
      "    p = net(a)  # np.copy is necessary because ::-1 creates just a view i think\n",
      "  File \"C:\\Users\\bruno\\anaconda3\\lib\\site-packages\\torch\\nn\\modules\\module.py\", line 1102, in _call_impl\n",
      "    return forward_call(*input, **kwargs)\n",
      "  File \"Z:\\brain-health\\fhnw_ds_fs22_cdl1_cml1_Brain_Health_Challenge\\notebooks\\1_preprocessing\\../../scripts\\HD_BET\\network_architecture.py\", line 203, in forward\n",
      "    x = F.leaky_relu(self.end_conv_1_bn(self.end_conv_1(x)), negative_slope=self.leakiness,\n",
      "  File \"C:\\Users\\bruno\\anaconda3\\lib\\site-packages\\torch\\nn\\modules\\module.py\", line 1102, in _call_impl\n",
      "    return forward_call(*input, **kwargs)\n",
      "  File \"C:\\Users\\bruno\\anaconda3\\lib\\site-packages\\torch\\nn\\modules\\instancenorm.py\", line 57, in forward\n",
      "    return F.instance_norm(\n",
      "  File \"C:\\Users\\bruno\\anaconda3\\lib\\site-packages\\torch\\nn\\functional.py\", line 2327, in instance_norm\n",
      "    return torch.instance_norm(\n",
      "RuntimeError: CUDA out of memory. Tried to allocate 650.00 MiB (GPU 0; 4.00 GiB total capacity; 1.77 GiB already allocated; 0 bytes free; 2.68 GiB reserved in total by PyTorch) If reserved memory is >> allocated memory try setting max_split_size_mb to avoid fragmentation.  See documentation for Memory Management and PYTORCH_CUDA_ALLOC_CONF\n"
     ]
    }
   ],
   "source": [
    "import sys\n",
    "sys.path.insert(0, '../../scripts/')\n",
    "import HD_BET\n",
    "!python \"../../scripts/HD_BET/hd_bet.py\" -i \"../../data/processed/ADNI_002_S_0295_MR_MPR__GradWarp__B1_Correction__N3__Scaled_2_Br_20081001114556321_S13408_I118671.nii\" -o \"../../data\" -mode fast -tta 0"
   ]
  }
 ],
 "metadata": {
  "kernelspec": {
   "display_name": "Python 3 (ipykernel)",
   "language": "python",
   "name": "python3"
  },
  "language_info": {
   "codemirror_mode": {
    "name": "ipython",
    "version": 3
   },
   "file_extension": ".py",
   "mimetype": "text/x-python",
   "name": "python",
   "nbconvert_exporter": "python",
   "pygments_lexer": "ipython3",
   "version": "3.9.7"
  }
 },
 "nbformat": 4,
 "nbformat_minor": 5
}
