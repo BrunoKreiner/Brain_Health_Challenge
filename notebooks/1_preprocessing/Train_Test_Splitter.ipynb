{
 "cells": [
  {
   "cell_type": "markdown",
   "metadata": {
    "collapsed": true,
    "pycharm": {
     "name": "#%% md\n"
    }
   },
   "source": [
    "# Train Test Split\n",
    "This notebook contains functionality to split the images into a train and test set and to create an annotation csv-file used by the pytorch data loader."
   ]
  },
  {
   "cell_type": "code",
   "execution_count": 41,
   "outputs": [],
   "source": [
    "import random\n",
    "import re\n",
    "import sys\n",
    "\n",
    "import pandas as pd\n",
    "\n",
    "sys.path.insert(0, '../../scripts/')\n",
    "\n",
    "from helpers import miscellaneous as misc\n",
    "\n",
    "CONFIG = misc.get_config()"
   ],
   "metadata": {
    "collapsed": false,
    "pycharm": {
     "name": "#%%\n"
    }
   }
  },
  {
   "cell_type": "markdown",
   "source": [
    "## Split with label CN, MCI and AD"
   ],
   "metadata": {
    "collapsed": false,
    "pycharm": {
     "name": "#%% md\n"
    }
   }
  },
  {
   "cell_type": "code",
   "execution_count": 42,
   "outputs": [
    {
     "data": {
      "text/plain": "  Image Data ID     Subject Group Sex  Age  Visit Modality  \\\n0        I97327  941_S_1311   MCI   M   69      1      MRI   \n1       I112538  941_S_1311   MCI   M   70      4      MRI   \n2        I97341  941_S_1311   MCI   M   70      3      MRI   \n3        I63874  941_S_1202    CN   M   78      1      MRI   \n4        I75150  941_S_1202    CN   M   78      3      MRI   \n\n                                  Description       Type   Acq Date Format  \\\n0    MPR; GradWarp; B1 Correction; N3; Scaled  Processed  3/02/2007  NiFTI   \n1    MPR; GradWarp; B1 Correction; N3; Scaled  Processed  6/01/2008  NiFTI   \n2  MPR-R; GradWarp; B1 Correction; N3; Scaled  Processed  9/27/2007  NiFTI   \n3  MPR-R; GradWarp; B1 Correction; N3; Scaled  Processed  1/30/2007  NiFTI   \n4    MPR; GradWarp; B1 Correction; N3; Scaled  Processed  8/24/2007  NiFTI   \n\n   Downloaded  \n0         NaN  \n1         NaN  \n2         NaN  \n3         NaN  \n4         NaN  ",
      "text/html": "<div>\n<style scoped>\n    .dataframe tbody tr th:only-of-type {\n        vertical-align: middle;\n    }\n\n    .dataframe tbody tr th {\n        vertical-align: top;\n    }\n\n    .dataframe thead th {\n        text-align: right;\n    }\n</style>\n<table border=\"1\" class=\"dataframe\">\n  <thead>\n    <tr style=\"text-align: right;\">\n      <th></th>\n      <th>Image Data ID</th>\n      <th>Subject</th>\n      <th>Group</th>\n      <th>Sex</th>\n      <th>Age</th>\n      <th>Visit</th>\n      <th>Modality</th>\n      <th>Description</th>\n      <th>Type</th>\n      <th>Acq Date</th>\n      <th>Format</th>\n      <th>Downloaded</th>\n    </tr>\n  </thead>\n  <tbody>\n    <tr>\n      <th>0</th>\n      <td>I97327</td>\n      <td>941_S_1311</td>\n      <td>MCI</td>\n      <td>M</td>\n      <td>69</td>\n      <td>1</td>\n      <td>MRI</td>\n      <td>MPR; GradWarp; B1 Correction; N3; Scaled</td>\n      <td>Processed</td>\n      <td>3/02/2007</td>\n      <td>NiFTI</td>\n      <td>NaN</td>\n    </tr>\n    <tr>\n      <th>1</th>\n      <td>I112538</td>\n      <td>941_S_1311</td>\n      <td>MCI</td>\n      <td>M</td>\n      <td>70</td>\n      <td>4</td>\n      <td>MRI</td>\n      <td>MPR; GradWarp; B1 Correction; N3; Scaled</td>\n      <td>Processed</td>\n      <td>6/01/2008</td>\n      <td>NiFTI</td>\n      <td>NaN</td>\n    </tr>\n    <tr>\n      <th>2</th>\n      <td>I97341</td>\n      <td>941_S_1311</td>\n      <td>MCI</td>\n      <td>M</td>\n      <td>70</td>\n      <td>3</td>\n      <td>MRI</td>\n      <td>MPR-R; GradWarp; B1 Correction; N3; Scaled</td>\n      <td>Processed</td>\n      <td>9/27/2007</td>\n      <td>NiFTI</td>\n      <td>NaN</td>\n    </tr>\n    <tr>\n      <th>3</th>\n      <td>I63874</td>\n      <td>941_S_1202</td>\n      <td>CN</td>\n      <td>M</td>\n      <td>78</td>\n      <td>1</td>\n      <td>MRI</td>\n      <td>MPR-R; GradWarp; B1 Correction; N3; Scaled</td>\n      <td>Processed</td>\n      <td>1/30/2007</td>\n      <td>NiFTI</td>\n      <td>NaN</td>\n    </tr>\n    <tr>\n      <th>4</th>\n      <td>I75150</td>\n      <td>941_S_1202</td>\n      <td>CN</td>\n      <td>M</td>\n      <td>78</td>\n      <td>3</td>\n      <td>MRI</td>\n      <td>MPR; GradWarp; B1 Correction; N3; Scaled</td>\n      <td>Processed</td>\n      <td>8/24/2007</td>\n      <td>NiFTI</td>\n      <td>NaN</td>\n    </tr>\n  </tbody>\n</table>\n</div>"
     },
     "execution_count": 42,
     "metadata": {},
     "output_type": "execute_result"
    }
   ],
   "source": [
    "# load image descriptions\n",
    "df = pd.read_csv('../../' + CONFIG['RAW_DATA_DIR'] + 'data/images/ADNI1_Complete_1Yr_1.5T_1_20_2022.csv')\n",
    "df.head()"
   ],
   "metadata": {
    "collapsed": false,
    "pycharm": {
     "name": "#%%\n"
    }
   }
  },
  {
   "cell_type": "code",
   "execution_count": 43,
   "outputs": [
    {
     "data": {
      "text/plain": "['I40845']"
     },
     "execution_count": 43,
     "metadata": {},
     "output_type": "execute_result"
    }
   ],
   "source": [
    "example_file_name = 'ADNI_002_S_1155_MR_MPR__GradWarp__B1_Correction__N3__Scaled_Br_20070217034919863_S24144_I40845.nii'\n",
    "\n",
    "regex_pattern = '(I[0-9]*)\\.nii'  # extracts image data id from file name\n",
    "\n",
    "re.findall(regex_pattern, example_file_name)"
   ],
   "metadata": {
    "collapsed": false,
    "pycharm": {
     "name": "#%%\n"
    }
   }
  },
  {
   "cell_type": "code",
   "execution_count": 44,
   "outputs": [
    {
     "data": {
      "text/plain": "<re.Match object; span=(88, 94), match='I40845'>"
     },
     "execution_count": 44,
     "metadata": {},
     "output_type": "execute_result"
    }
   ],
   "source": [
    "re.search('I40845', example_file_name)"
   ],
   "metadata": {
    "collapsed": false,
    "pycharm": {
     "name": "#%%\n"
    }
   }
  },
  {
   "cell_type": "code",
   "execution_count": 45,
   "outputs": [
    {
     "data": {
      "text/plain": "['../../data/raw/flattened\\\\ADNI_002_S_0295_MR_MPR__GradWarp__B1_Correction__N3__Scaled_2_Br_20081001114556321_S13408_I118671.nii',\n '../../data/raw/flattened\\\\ADNI_002_S_0295_MR_MPR__GradWarp__B1_Correction__N3__Scaled_2_Br_20081001120532722_S21856_I118692.nii']"
     },
     "execution_count": 45,
     "metadata": {},
     "output_type": "execute_result"
    }
   ],
   "source": [
    "nii_files = misc.get_nii_filenames(CONFIG['FLATTENED_DATA_DIR'])\n",
    "nii_files[:2]"
   ],
   "metadata": {
    "collapsed": false,
    "pycharm": {
     "name": "#%%\n"
    }
   }
  },
  {
   "cell_type": "code",
   "execution_count": 59,
   "outputs": [],
   "source": [
    "def split_into_train_test(df, group_identifier, proportion=0.8, save_files=False):\n",
    "    assert 1 > proportion > 0, f'parameter proportion has to be in range [0,1]. {proportion} was given'\n",
    "\n",
    "    testset = pd.DataFrame(columns=['filename', 'Group', 'Subject'])\n",
    "    trainset = pd.DataFrame(columns=['filename', 'Group', 'Subject'])\n",
    "\n",
    "    # df_files = map_imageID_to_file(df, misc.get_nii_filenames(CONFIG['FLATTENED_DATA_DIR']))\n",
    "\n",
    "    # add filenames to df\n",
    "    filenames = misc.get_nii_filenames(CONFIG['FLATTENED_DATA_DIR'])\n",
    "\n",
    "    def get_filename_by_id(x):\n",
    "        filename = [file for file in filenames if x['Image Data ID'] in file]\n",
    "        if len(filename) == 1:\n",
    "            return filename[0]\n",
    "    #   else:\n",
    "    #       print(x['Image Data ID']) # fixme missing images?\n",
    "\n",
    "    df['filename'] = df.apply(get_filename_by_id, axis=1)\n",
    "\n",
    "    # group by identifier\n",
    "    df_grouped = df.groupby(group_identifier)\n",
    "\n",
    "    groups = df[group_identifier].unique()\n",
    "    for group in groups:\n",
    "        df_group = df_grouped.get_group(group)\n",
    "\n",
    "        subjects = df_group['Subject'].unique()\n",
    "\n",
    "        random.seed(CONFIG['RANDOM_STATE'])\n",
    "        random.shuffle(subjects)\n",
    "\n",
    "        n_train = int(len(subjects) * proportion)  # accordingly n_test = len(subjects) - n_train\n",
    "\n",
    "        train_subjects = subjects[:n_train]\n",
    "        test_subjects = subjects[n_train:]\n",
    "\n",
    "        sub_trainset = df_group[df_group['Subject'].isin(train_subjects)]\n",
    "        sub_testset = df_group[df_group['Subject'].isin(test_subjects)]\n",
    "\n",
    "        testset = pd.concat([testset, sub_testset[['filename', 'Group', 'Subject']]], ignore_index=True)\n",
    "        trainset = pd.concat([trainset, sub_trainset[['filename', 'Group', 'Subject']]], ignore_index=True)\n",
    "\n",
    "    if save_files:\n",
    "        trainset.to_csv('../../' + CONFIG['ANNOTATIONS_DIR'] + 'train_labels.csv', sep=',', header=True, index=False)\n",
    "        testset.to_csv('../../' + CONFIG['ANNOTATIONS_DIR'] + 'test_labels.csv', sep=',', header=True, index=False)\n",
    "\n",
    "        return None\n",
    "\n",
    "    return trainset, testset\n",
    "\n",
    "\n",
    "split_into_train_test(df, 'Group', save_files=True)"
   ],
   "metadata": {
    "collapsed": false,
    "pycharm": {
     "name": "#%%\n"
    }
   }
  },
  {
   "cell_type": "markdown",
   "source": [
    "## Split according to granular diagnosis"
   ],
   "metadata": {
    "collapsed": false,
    "pycharm": {
     "name": "#%% md\n"
    }
   }
  },
  {
   "cell_type": "code",
   "execution_count": 60,
   "outputs": [],
   "source": [
    "# maybe later ;)"
   ],
   "metadata": {
    "collapsed": false,
    "pycharm": {
     "name": "#%%\n"
    }
   }
  }
 ],
 "metadata": {
  "kernelspec": {
   "display_name": "Python 3",
   "language": "python",
   "name": "python3"
  },
  "language_info": {
   "codemirror_mode": {
    "name": "ipython",
    "version": 2
   },
   "file_extension": ".py",
   "mimetype": "text/x-python",
   "name": "python",
   "nbconvert_exporter": "python",
   "pygments_lexer": "ipython2",
   "version": "2.7.6"
  }
 },
 "nbformat": 4,
 "nbformat_minor": 0
}