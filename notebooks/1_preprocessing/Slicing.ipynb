{
 "cells": [
  {
   "cell_type": "code",
   "execution_count": 1,
   "id": "b9de98be-6208-47e8-b5fb-e3d51637b7eb",
   "metadata": {},
   "outputs": [],
   "source": [
    "import sys\n",
    "import torchio as tio\n",
    "import pandas as pd \n",
    "import numpy as np\n",
    "from torchvision.utils import save_image\n",
    "import matplotlib.pyplot as plt\n",
    "from PIL import Image\n",
    "from tqdm.notebook import tqdm\n",
    "\n",
    "\n",
    "sys.path.insert(0, '../../scripts/')\n",
    "import data_loader\n",
    "from helpers import miscellaneous as misc\n",
    "\n",
    "CONFIG = misc.get_config()"
   ]
  },
  {
   "cell_type": "code",
   "execution_count": 2,
   "id": "99e688b3-68cc-42f1-8e6a-309842bdba2d",
   "metadata": {},
   "outputs": [
    {
     "data": {
      "text/plain": [
       "{'RAW_DATA_DIR': 'data/raw/',\n",
       " 'PROCESSED_DATA_DIR': 'data/processed/',\n",
       " 'FLATTENED_DATA_DIR': 'data/raw/flattened/',\n",
       " 'SERIALIZED_MODELS': 'models/trained_models/',\n",
       " 'METRICS_DIR': 'models/trained_history/',\n",
       " 'ANNOTATIONS_DIR': 'data/annotations/',\n",
       " 'CDR_DIR': 'data/tabular_data/tabular_data/CDR.csv',\n",
       " 'GDSCALE_DIR': 'data/tabular_data/tabular_data/GDSCALE.csv',\n",
       " 'MMSE_DIR': 'data/tabular_data/tabular_data/MMSE.csv',\n",
       " 'MOCA_DIR': 'data/tabular_data/tabular_data/MOCA.csv',\n",
       " 'NEUROBAT_DIR': 'data/tabular_data/tabular_data/NEUROBAT.csv',\n",
       " 'PTDEMOG_DIR': 'data/tabular_data/tabular_data/PTDEMOG.csv',\n",
       " 'TRAIN_LABELS_DIR': 'data/annotations/train_labels.csv',\n",
       " 'TEST_LABELS_DIR': 'data/annotations/test_labels.csv',\n",
       " 'PLOT_DIR_BINARY': 'reports/plots/',\n",
       " 'SLICED_DATA_DIR': 'data/raw/slices/',\n",
       " 'MODEL': 'DenseNet121',\n",
       " 'DEVICE': 'gpu',\n",
       " 'TRAIN_SIZE': 0.8,\n",
       " 'LEARNING_RATE': 0.001,\n",
       " 'AUTO_LEARNING_RATE': True,\n",
       " 'BATCH_SIZE': 128,\n",
       " 'AUTO_BATCH_SIZE': False,\n",
       " 'EPOCHS': 30,\n",
       " 'NUM_WORKERS': 5,\n",
       " 'TRANSFORMER': 'Test',\n",
       " 'CRITERION': 'CrossEntropy',\n",
       " 'OPTIMIZER': 'Adam',\n",
       " 'WANDB_USER': 'brain-health',\n",
       " 'DATA_LOADER': 'slice',\n",
       " 'IMAGE_WIDTH': 900,\n",
       " 'IMAGE_HEIGHT': 900,\n",
       " 'IMAGE_RESIZE': 256,\n",
       " 'DIMENSION': 2,\n",
       " 'NSLICE': 'Center',\n",
       " 'COLOR_SEQUENTIAL': 'bone',\n",
       " 'COLOR_DISCRETE': 'Paired',\n",
       " 'RANDOM_STATE': '42'}"
      ]
     },
     "execution_count": 2,
     "metadata": {},
     "output_type": "execute_result"
    }
   ],
   "source": [
    "CONFIG"
   ]
  },
  {
   "cell_type": "code",
   "execution_count": 3,
   "id": "e4f3f52e-b589-408a-af48-36dedab88766",
   "metadata": {},
   "outputs": [],
   "source": [
    "SLICE = CONFIG['NSLICE']\n",
    "DIMENSION = CONFIG['DIMENSION']"
   ]
  },
  {
   "cell_type": "code",
   "execution_count": 28,
   "id": "d8c666c5-c0fc-4417-acc2-38bcd5ff22e7",
   "metadata": {},
   "outputs": [],
   "source": [
    "train_data = pd.read_csv('../../' + CONFIG['TRAIN_LABELS_DIR'])\n",
    "test_data = pd.read_csv('../../' + CONFIG['TEST_LABELS_DIR'])\n",
    "\n",
    "#TRANSFORMER = CONFIG['TRANSFORMER']\n",
    "#train_transform, val_transform = prep.get_transformer(TRANSFORMER)"
   ]
  },
  {
   "cell_type": "code",
   "execution_count": 29,
   "id": "6a3c3663-a185-40aa-9a2c-237f5c100936",
   "metadata": {},
   "outputs": [
    {
     "data": {
      "application/vnd.jupyter.widget-view+json": {
       "model_id": "585db29a0b314483935efefd7076c3fe",
       "version_major": 2,
       "version_minor": 0
      },
      "text/plain": [
       "  0%|          | 0/1824 [00:00<?, ?it/s]"
      ]
     },
     "metadata": {},
     "output_type": "display_data"
    },
    {
     "name": "stderr",
     "output_type": "stream",
     "text": [
      "C:\\Users\\bruno\\AppData\\Local\\Temp\\ipykernel_11172\\1650925712.py:39: FutureWarning: The default value of regex will change from True to False in a future version.\n",
      "  annotations.filename = annotations.filename.str.replace('.nii', '.png')\n"
     ]
    },
    {
     "data": {
      "application/vnd.jupyter.widget-view+json": {
       "model_id": "02922c8935634a7e8529b413de44d8f7",
       "version_major": 2,
       "version_minor": 0
      },
      "text/plain": [
       "  0%|          | 0/470 [00:00<?, ?it/s]"
      ]
     },
     "metadata": {},
     "output_type": "display_data"
    }
   ],
   "source": [
    "def imshow(img):\n",
    "    plt.imshow(img)\n",
    "    \n",
    "def save_slices(annotations):\n",
    "    \n",
    "    for i in tqdm(range(len(annotations))):\n",
    "        filename = annotations.filename.iloc[i]\n",
    "        if isinstance(filename, str):\n",
    "            name = filename.split('\\\\')[1]\n",
    "            name = name.replace('.nii', '.png')\n",
    "        else:\n",
    "            continue\n",
    "\n",
    "        img = tio.ScalarImage(\"../../\" + filename)\n",
    "        \n",
    "        if SLICE == 'Center':\n",
    "            nslice = img.data.size(DIMENSION)//2\n",
    "        else:\n",
    "            nslice = SLICE\n",
    "        \n",
    "        if SLICE:\n",
    "            if DIMENSION == 1:\n",
    "                assert img.data.size()[1] >= nslice, f'[WARN] Nslice is too large. Max allowed: {img.data.size()[1]}'\n",
    "                img = img.data[:, nslice, :, :]\n",
    "            elif DIMENSION == 2:\n",
    "                assert img.data.size()[2] >= nslice, f'[WARN] Nslice is too large. Max allowed: {img.data.size()[2]}'\n",
    "                img = img.data[:, :, nslice, :]\n",
    "            elif DIMENSION == 3:\n",
    "                assert img.data.size()[3] >= nslice, f'[WARN] Nslice is too large. Max allowed: {img.data.size()[3]}'\n",
    "                img = img.data[:, :, :, nslice]\n",
    "        \n",
    "        img = img / 2 + 0.5     # unnormalize\n",
    "        npimg = img.numpy()\n",
    "        npimg = np.squeeze(npimg)\n",
    "        im = Image.fromarray(npimg).convert(\"L\")\n",
    "        \n",
    "        im.save(\"../../\" + CONFIG['SLICED_DATA_DIR'] + f'center/{DIMENSION}/' + name)\n",
    "\n",
    "    annotations.filename = annotations.filename.str.replace('.nii', '.png')\n",
    "    annotations.filename = annotations.filename.str.replace('/flattened', '/slices/' + f'center/{DIMENSION}')\n",
    "    return annotations\n",
    "# trainset\n",
    "new_train_annotations = save_slices(train_data)\n",
    "new_train_annotations.to_csv('../../' + CONFIG['TRAIN_LABELS_DIR'], mode='w+')\n",
    "new_test_annotations = save_slices(test_data)\n",
    "new_test_annotations.to_csv('../../' + CONFIG['TEST_LABELS_DIR'], mode='w+')"
   ]
  },
  {
   "cell_type": "code",
   "execution_count": 7,
   "id": "60a51931",
   "metadata": {},
   "outputs": [
    {
     "data": {
      "text/html": [
       "<div>\n",
       "<style scoped>\n",
       "    .dataframe tbody tr th:only-of-type {\n",
       "        vertical-align: middle;\n",
       "    }\n",
       "\n",
       "    .dataframe tbody tr th {\n",
       "        vertical-align: top;\n",
       "    }\n",
       "\n",
       "    .dataframe thead th {\n",
       "        text-align: right;\n",
       "    }\n",
       "</style>\n",
       "<table border=\"1\" class=\"dataframe\">\n",
       "  <thead>\n",
       "    <tr style=\"text-align: right;\">\n",
       "      <th></th>\n",
       "      <th>filename</th>\n",
       "      <th>Group</th>\n",
       "      <th>Subject</th>\n",
       "    </tr>\n",
       "  </thead>\n",
       "  <tbody>\n",
       "    <tr>\n",
       "      <th>0</th>\n",
       "      <td>data/raw/flattened\\ADNI_941_S_1311_MR_MPR__Gra...</td>\n",
       "      <td>MCI</td>\n",
       "      <td>941_S_1311</td>\n",
       "    </tr>\n",
       "    <tr>\n",
       "      <th>1</th>\n",
       "      <td>data/raw/flattened\\ADNI_941_S_1311_MR_MPR__Gra...</td>\n",
       "      <td>MCI</td>\n",
       "      <td>941_S_1311</td>\n",
       "    </tr>\n",
       "    <tr>\n",
       "      <th>2</th>\n",
       "      <td>data/raw/flattened\\ADNI_941_S_1311_MR_MPR-R__G...</td>\n",
       "      <td>MCI</td>\n",
       "      <td>941_S_1311</td>\n",
       "    </tr>\n",
       "    <tr>\n",
       "      <th>3</th>\n",
       "      <td>data/raw/flattened\\ADNI_141_S_1255_MR_MPR__Gra...</td>\n",
       "      <td>MCI</td>\n",
       "      <td>141_S_1255</td>\n",
       "    </tr>\n",
       "    <tr>\n",
       "      <th>4</th>\n",
       "      <td>data/raw/flattened\\ADNI_141_S_1255_MR_MPR__Gra...</td>\n",
       "      <td>MCI</td>\n",
       "      <td>141_S_1255</td>\n",
       "    </tr>\n",
       "    <tr>\n",
       "      <th>...</th>\n",
       "      <td>...</td>\n",
       "      <td>...</td>\n",
       "      <td>...</td>\n",
       "    </tr>\n",
       "    <tr>\n",
       "      <th>1819</th>\n",
       "      <td>data/raw/flattened\\ADNI_002_S_0816_MR_MPR__Gra...</td>\n",
       "      <td>AD</td>\n",
       "      <td>002_S_0816</td>\n",
       "    </tr>\n",
       "    <tr>\n",
       "      <th>1820</th>\n",
       "      <td>data/raw/flattened\\ADNI_002_S_0619_MR_MPR__Gra...</td>\n",
       "      <td>AD</td>\n",
       "      <td>002_S_0619</td>\n",
       "    </tr>\n",
       "    <tr>\n",
       "      <th>1821</th>\n",
       "      <td>data/raw/flattened\\ADNI_002_S_0619_MR_MPR-R__G...</td>\n",
       "      <td>AD</td>\n",
       "      <td>002_S_0619</td>\n",
       "    </tr>\n",
       "    <tr>\n",
       "      <th>1822</th>\n",
       "      <td>data/raw/flattened\\ADNI_002_S_0619_MR_MPR-R__G...</td>\n",
       "      <td>AD</td>\n",
       "      <td>002_S_0619</td>\n",
       "    </tr>\n",
       "    <tr>\n",
       "      <th>1823</th>\n",
       "      <td>data/raw/flattened\\ADNI_002_S_0619_MR_MPR-R__G...</td>\n",
       "      <td>AD</td>\n",
       "      <td>002_S_0619</td>\n",
       "    </tr>\n",
       "  </tbody>\n",
       "</table>\n",
       "<p>1824 rows × 3 columns</p>\n",
       "</div>"
      ],
      "text/plain": [
       "                                               filename Group     Subject\n",
       "0     data/raw/flattened\\ADNI_941_S_1311_MR_MPR__Gra...   MCI  941_S_1311\n",
       "1     data/raw/flattened\\ADNI_941_S_1311_MR_MPR__Gra...   MCI  941_S_1311\n",
       "2     data/raw/flattened\\ADNI_941_S_1311_MR_MPR-R__G...   MCI  941_S_1311\n",
       "3     data/raw/flattened\\ADNI_141_S_1255_MR_MPR__Gra...   MCI  141_S_1255\n",
       "4     data/raw/flattened\\ADNI_141_S_1255_MR_MPR__Gra...   MCI  141_S_1255\n",
       "...                                                 ...   ...         ...\n",
       "1819  data/raw/flattened\\ADNI_002_S_0816_MR_MPR__Gra...    AD  002_S_0816\n",
       "1820  data/raw/flattened\\ADNI_002_S_0619_MR_MPR__Gra...    AD  002_S_0619\n",
       "1821  data/raw/flattened\\ADNI_002_S_0619_MR_MPR-R__G...    AD  002_S_0619\n",
       "1822  data/raw/flattened\\ADNI_002_S_0619_MR_MPR-R__G...    AD  002_S_0619\n",
       "1823  data/raw/flattened\\ADNI_002_S_0619_MR_MPR-R__G...    AD  002_S_0619\n",
       "\n",
       "[1824 rows x 3 columns]"
      ]
     },
     "execution_count": 7,
     "metadata": {},
     "output_type": "execute_result"
    }
   ],
   "source": [
    "new_train_annotations"
   ]
  },
  {
   "cell_type": "code",
   "execution_count": 64,
   "id": "eab61602",
   "metadata": {},
   "outputs": [
    {
     "ename": "ValueError",
     "evalue": "The input must be a 4D tensor with dimensions (channels, x, y, z) but it has shape (1, 166, 1). Tips: if it is a volume, please add the channels dimension; if it is 2D, also add a dimension of size 1 for the z axis",
     "output_type": "error",
     "traceback": [
      "\u001b[1;31m---------------------------------------------------------------------------\u001b[0m",
      "\u001b[1;31mValueError\u001b[0m                                Traceback (most recent call last)",
      "Input \u001b[1;32mIn [64]\u001b[0m, in \u001b[0;36m<cell line: 6>\u001b[1;34m()\u001b[0m\n\u001b[0;32m      3\u001b[0m dataloader \u001b[38;5;241m=\u001b[39m get_data_loader()\n\u001b[0;32m      4\u001b[0m train_dataloader \u001b[38;5;241m=\u001b[39m dataloader(\u001b[38;5;124m'\u001b[39m\u001b[38;5;124m../../\u001b[39m\u001b[38;5;124m'\u001b[39m \u001b[38;5;241m+\u001b[39m CONFIG[\u001b[38;5;124m'\u001b[39m\u001b[38;5;124mTRAIN_LABELS_DIR\u001b[39m\u001b[38;5;124m'\u001b[39m], transform\u001b[38;5;241m=\u001b[39mtrain_transform, dimension\u001b[38;5;241m=\u001b[39mCONFIG[\u001b[38;5;124m'\u001b[39m\u001b[38;5;124mDIMENSION\u001b[39m\u001b[38;5;124m'\u001b[39m], nslice\u001b[38;5;241m=\u001b[39mCONFIG[\u001b[38;5;124m'\u001b[39m\u001b[38;5;124mNSLICE\u001b[39m\u001b[38;5;124m'\u001b[39m])\n\u001b[1;32m----> 6\u001b[0m \u001b[43mtrain_dataloader\u001b[49m\u001b[43m[\u001b[49m\u001b[38;5;241;43m9\u001b[39;49m\u001b[43m]\u001b[49m\n",
      "File \u001b[1;32mZ:\\brain-health\\fhnw_ds_fs22_cdl1_cml1_Brain_Health_Challenge\\notebooks\\1_preprocessing\\../../scripts\\data_loader.py:200\u001b[0m, in \u001b[0;36mMRIDatasetSlice.__getitem__\u001b[1;34m(self, idx)\u001b[0m\n\u001b[0;32m    197\u001b[0m label \u001b[38;5;241m=\u001b[39m \u001b[38;5;28mself\u001b[39m\u001b[38;5;241m.\u001b[39midx_to_label[label]\n\u001b[0;32m    199\u001b[0m \u001b[38;5;28;01mif\u001b[39;00m \u001b[38;5;28mself\u001b[39m\u001b[38;5;241m.\u001b[39mtransform \u001b[38;5;129;01mis\u001b[39;00m \u001b[38;5;129;01mnot\u001b[39;00m \u001b[38;5;28;01mNone\u001b[39;00m:\n\u001b[1;32m--> 200\u001b[0m     img \u001b[38;5;241m=\u001b[39m \u001b[38;5;28mself\u001b[39m\u001b[38;5;241m.\u001b[39mtransform(img\u001b[38;5;241m.\u001b[39munsqueeze(dim\u001b[38;5;241m=\u001b[39m\u001b[38;5;241m3\u001b[39m))\n\u001b[0;32m    201\u001b[0m     img \u001b[38;5;241m=\u001b[39m img[:,:,:,\u001b[38;5;241m0\u001b[39m]\n\u001b[0;32m    204\u001b[0m \u001b[38;5;28;01mreturn\u001b[39;00m {\u001b[38;5;124m\"\u001b[39m\u001b[38;5;124mimages\u001b[39m\u001b[38;5;124m\"\u001b[39m: img, \u001b[38;5;124m\"\u001b[39m\u001b[38;5;124mlabels\u001b[39m\u001b[38;5;124m\"\u001b[39m: label }\n",
      "File \u001b[1;32m~\\anaconda3\\lib\\site-packages\\torchio\\transforms\\transform.py:140\u001b[0m, in \u001b[0;36mTransform.__call__\u001b[1;34m(self, data)\u001b[0m\n\u001b[0;32m    138\u001b[0m     subject \u001b[38;5;241m=\u001b[39m copy\u001b[38;5;241m.\u001b[39mcopy(subject)\n\u001b[0;32m    139\u001b[0m \u001b[38;5;28;01mwith\u001b[39;00m np\u001b[38;5;241m.\u001b[39merrstate(\u001b[38;5;28mall\u001b[39m\u001b[38;5;241m=\u001b[39m\u001b[38;5;124m'\u001b[39m\u001b[38;5;124mraise\u001b[39m\u001b[38;5;124m'\u001b[39m, under\u001b[38;5;241m=\u001b[39m\u001b[38;5;124m'\u001b[39m\u001b[38;5;124mignore\u001b[39m\u001b[38;5;124m'\u001b[39m):\n\u001b[1;32m--> 140\u001b[0m     transformed \u001b[38;5;241m=\u001b[39m \u001b[38;5;28;43mself\u001b[39;49m\u001b[38;5;241;43m.\u001b[39;49m\u001b[43mapply_transform\u001b[49m\u001b[43m(\u001b[49m\u001b[43msubject\u001b[49m\u001b[43m)\u001b[49m\n\u001b[0;32m    141\u001b[0m \u001b[38;5;28;01mif\u001b[39;00m \u001b[38;5;28mself\u001b[39m\u001b[38;5;241m.\u001b[39mkeep \u001b[38;5;129;01mis\u001b[39;00m \u001b[38;5;129;01mnot\u001b[39;00m \u001b[38;5;28;01mNone\u001b[39;00m:\n\u001b[0;32m    142\u001b[0m     \u001b[38;5;28;01mfor\u001b[39;00m name, image \u001b[38;5;129;01min\u001b[39;00m images_to_keep\u001b[38;5;241m.\u001b[39mitems():\n",
      "File \u001b[1;32m~\\anaconda3\\lib\\site-packages\\torchio\\transforms\\augmentation\\composition.py:47\u001b[0m, in \u001b[0;36mCompose.apply_transform\u001b[1;34m(self, subject)\u001b[0m\n\u001b[0;32m     45\u001b[0m \u001b[38;5;28;01mdef\u001b[39;00m \u001b[38;5;21mapply_transform\u001b[39m(\u001b[38;5;28mself\u001b[39m, subject: Subject) \u001b[38;5;241m-\u001b[39m\u001b[38;5;241m>\u001b[39m Subject:\n\u001b[0;32m     46\u001b[0m     \u001b[38;5;28;01mfor\u001b[39;00m transform \u001b[38;5;129;01min\u001b[39;00m \u001b[38;5;28mself\u001b[39m\u001b[38;5;241m.\u001b[39mtransforms:\n\u001b[1;32m---> 47\u001b[0m         subject \u001b[38;5;241m=\u001b[39m \u001b[43mtransform\u001b[49m\u001b[43m(\u001b[49m\u001b[43msubject\u001b[49m\u001b[43m)\u001b[49m\n\u001b[0;32m     48\u001b[0m     \u001b[38;5;28;01mreturn\u001b[39;00m subject\n",
      "File \u001b[1;32m~\\anaconda3\\lib\\site-packages\\torchio\\transforms\\transform.py:129\u001b[0m, in \u001b[0;36mTransform.__call__\u001b[1;34m(self, data)\u001b[0m\n\u001b[0;32m    127\u001b[0m \u001b[38;5;28;01mif\u001b[39;00m \u001b[38;5;28mself\u001b[39m\u001b[38;5;241m.\u001b[39mparse_input:\n\u001b[0;32m    128\u001b[0m     data_parser \u001b[38;5;241m=\u001b[39m DataParser(data, keys\u001b[38;5;241m=\u001b[39m\u001b[38;5;28mself\u001b[39m\u001b[38;5;241m.\u001b[39minclude)\n\u001b[1;32m--> 129\u001b[0m     subject \u001b[38;5;241m=\u001b[39m \u001b[43mdata_parser\u001b[49m\u001b[38;5;241;43m.\u001b[39;49m\u001b[43mget_subject\u001b[49m\u001b[43m(\u001b[49m\u001b[43m)\u001b[49m\n\u001b[0;32m    130\u001b[0m \u001b[38;5;28;01melse\u001b[39;00m:\n\u001b[0;32m    131\u001b[0m     subject \u001b[38;5;241m=\u001b[39m data\n",
      "File \u001b[1;32m~\\anaconda3\\lib\\site-packages\\torchio\\transforms\\data_parser.py:48\u001b[0m, in \u001b[0;36mDataParser.get_subject\u001b[1;34m(self)\u001b[0m\n\u001b[0;32m     46\u001b[0m     \u001b[38;5;28mself\u001b[39m\u001b[38;5;241m.\u001b[39mis_nib \u001b[38;5;241m=\u001b[39m \u001b[38;5;28;01mTrue\u001b[39;00m\n\u001b[0;32m     47\u001b[0m \u001b[38;5;28;01melif\u001b[39;00m \u001b[38;5;28misinstance\u001b[39m(\u001b[38;5;28mself\u001b[39m\u001b[38;5;241m.\u001b[39mdata, (np\u001b[38;5;241m.\u001b[39mndarray, torch\u001b[38;5;241m.\u001b[39mTensor)):\n\u001b[1;32m---> 48\u001b[0m     subject \u001b[38;5;241m=\u001b[39m \u001b[38;5;28;43mself\u001b[39;49m\u001b[38;5;241;43m.\u001b[39;49m\u001b[43m_parse_tensor\u001b[49m\u001b[43m(\u001b[49m\u001b[38;5;28;43mself\u001b[39;49m\u001b[38;5;241;43m.\u001b[39;49m\u001b[43mdata\u001b[49m\u001b[43m)\u001b[49m\n\u001b[0;32m     49\u001b[0m     \u001b[38;5;28mself\u001b[39m\u001b[38;5;241m.\u001b[39mis_array \u001b[38;5;241m=\u001b[39m \u001b[38;5;28misinstance\u001b[39m(\u001b[38;5;28mself\u001b[39m\u001b[38;5;241m.\u001b[39mdata, np\u001b[38;5;241m.\u001b[39mndarray)\n\u001b[0;32m     50\u001b[0m     \u001b[38;5;28mself\u001b[39m\u001b[38;5;241m.\u001b[39mis_tensor \u001b[38;5;241m=\u001b[39m \u001b[38;5;28;01mTrue\u001b[39;00m\n",
      "File \u001b[1;32m~\\anaconda3\\lib\\site-packages\\torchio\\transforms\\data_parser.py:119\u001b[0m, in \u001b[0;36mDataParser._parse_tensor\u001b[1;34m(self, data)\u001b[0m\n\u001b[0;32m    112\u001b[0m \u001b[38;5;28;01mif\u001b[39;00m data\u001b[38;5;241m.\u001b[39mndim \u001b[38;5;241m!=\u001b[39m \u001b[38;5;241m4\u001b[39m:\n\u001b[0;32m    113\u001b[0m     message \u001b[38;5;241m=\u001b[39m (\n\u001b[0;32m    114\u001b[0m         \u001b[38;5;124m'\u001b[39m\u001b[38;5;124mThe input must be a 4D tensor with dimensions\u001b[39m\u001b[38;5;124m'\u001b[39m\n\u001b[0;32m    115\u001b[0m         \u001b[38;5;124mf\u001b[39m\u001b[38;5;124m'\u001b[39m\u001b[38;5;124m (channels, x, y, z) but it has shape \u001b[39m\u001b[38;5;132;01m{\u001b[39;00m\u001b[38;5;28mtuple\u001b[39m(data\u001b[38;5;241m.\u001b[39mshape)\u001b[38;5;132;01m}\u001b[39;00m\u001b[38;5;124m.\u001b[39m\u001b[38;5;124m'\u001b[39m\n\u001b[0;32m    116\u001b[0m         \u001b[38;5;124m'\u001b[39m\u001b[38;5;124m Tips: if it is a volume, please add the channels dimension;\u001b[39m\u001b[38;5;124m'\u001b[39m\n\u001b[0;32m    117\u001b[0m         \u001b[38;5;124m'\u001b[39m\u001b[38;5;124m if it is 2D, also add a dimension of size 1 for the z axis\u001b[39m\u001b[38;5;124m'\u001b[39m\n\u001b[0;32m    118\u001b[0m     )\n\u001b[1;32m--> 119\u001b[0m     \u001b[38;5;28;01mraise\u001b[39;00m \u001b[38;5;167;01mValueError\u001b[39;00m(message)\n\u001b[0;32m    120\u001b[0m \u001b[38;5;28;01mreturn\u001b[39;00m \u001b[38;5;28mself\u001b[39m\u001b[38;5;241m.\u001b[39m_get_subject_from_tensor(data)\n",
      "\u001b[1;31mValueError\u001b[0m: The input must be a 4D tensor with dimensions (channels, x, y, z) but it has shape (1, 166, 1). Tips: if it is a volume, please add the channels dimension; if it is 2D, also add a dimension of size 1 for the z axis"
     ]
    }
   ],
   "source": [
    "from data_loader import get_data_loader\n",
    "\n",
    "dataloader = get_data_loader()\n",
    "train_dataloader = dataloader('../../' + CONFIG['TRAIN_LABELS_DIR'], transform=train_transform, dimension=CONFIG['DIMENSION'], nslice=CONFIG['NSLICE'])\n",
    "\n",
    "train_dataloader[9]"
   ]
  }
 ],
 "metadata": {
  "kernelspec": {
   "display_name": "Python 3 (ipykernel)",
   "language": "python",
   "name": "python3"
  },
  "language_info": {
   "codemirror_mode": {
    "name": "ipython",
    "version": 3
   },
   "file_extension": ".py",
   "mimetype": "text/x-python",
   "name": "python",
   "nbconvert_exporter": "python",
   "pygments_lexer": "ipython3",
   "version": "3.9.7"
  }
 },
 "nbformat": 4,
 "nbformat_minor": 5
}
