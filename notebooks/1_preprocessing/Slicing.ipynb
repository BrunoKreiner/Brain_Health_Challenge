{
 "cells": [
  {
   "cell_type": "code",
   "execution_count": 3,
   "id": "b9de98be-6208-47e8-b5fb-e3d51637b7eb",
   "metadata": {},
   "outputs": [
    {
     "ename": "OSError",
     "evalue": "[WinError 1455] The paging file is too small for this operation to complete. Error loading \"D:\\Programs\\anaconda\\lib\\site-packages\\torch\\lib\\cudnn_cnn_infer64_8.dll\" or one of its dependencies.",
     "output_type": "error",
     "traceback": [
      "\u001b[1;31m---------------------------------------------------------------------------\u001b[0m",
      "\u001b[1;31mOSError\u001b[0m                                   Traceback (most recent call last)",
      "Input \u001b[1;32mIn [3]\u001b[0m, in \u001b[0;36m<cell line: 2>\u001b[1;34m()\u001b[0m\n\u001b[0;32m      1\u001b[0m \u001b[38;5;28;01mimport\u001b[39;00m \u001b[38;5;21;01msys\u001b[39;00m\n\u001b[1;32m----> 2\u001b[0m \u001b[38;5;28;01mimport\u001b[39;00m \u001b[38;5;21;01mtorchio\u001b[39;00m \u001b[38;5;28;01mas\u001b[39;00m \u001b[38;5;21;01mtio\u001b[39;00m\n\u001b[0;32m      3\u001b[0m \u001b[38;5;28;01mimport\u001b[39;00m \u001b[38;5;21;01mpandas\u001b[39;00m \u001b[38;5;28;01mas\u001b[39;00m \u001b[38;5;21;01mpd\u001b[39;00m \n\u001b[0;32m      4\u001b[0m \u001b[38;5;28;01mimport\u001b[39;00m \u001b[38;5;21;01mnumpy\u001b[39;00m \u001b[38;5;28;01mas\u001b[39;00m \u001b[38;5;21;01mnp\u001b[39;00m\n",
      "File \u001b[1;32mD:\\Programs\\anaconda\\lib\\site-packages\\torchio\\__init__.py:8\u001b[0m, in \u001b[0;36m<module>\u001b[1;34m\u001b[0m\n\u001b[0;32m      4\u001b[0m __email__ \u001b[38;5;241m=\u001b[39m \u001b[38;5;124m'\u001b[39m\u001b[38;5;124mfepegar@gmail.com\u001b[39m\u001b[38;5;124m'\u001b[39m\n\u001b[0;32m      5\u001b[0m __version__ \u001b[38;5;241m=\u001b[39m \u001b[38;5;124m'\u001b[39m\u001b[38;5;124m0.18.76\u001b[39m\u001b[38;5;124m'\u001b[39m\n\u001b[1;32m----> 8\u001b[0m \u001b[38;5;28;01mfrom\u001b[39;00m \u001b[38;5;21;01m.\u001b[39;00m \u001b[38;5;28;01mimport\u001b[39;00m utils\n\u001b[0;32m      9\u001b[0m \u001b[38;5;28;01mfrom\u001b[39;00m \u001b[38;5;21;01m.\u001b[39;00m\u001b[38;5;21;01mconstants\u001b[39;00m \u001b[38;5;28;01mimport\u001b[39;00m \u001b[38;5;241m*\u001b[39m  \u001b[38;5;66;03m# noqa: F401, F403\u001b[39;00m\n\u001b[0;32m     10\u001b[0m \u001b[38;5;28;01mfrom\u001b[39;00m \u001b[38;5;21;01m.\u001b[39;00m\u001b[38;5;21;01mtransforms\u001b[39;00m \u001b[38;5;28;01mimport\u001b[39;00m \u001b[38;5;241m*\u001b[39m  \u001b[38;5;66;03m# noqa: F401, F403\u001b[39;00m\n",
      "File \u001b[1;32mD:\\Programs\\anaconda\\lib\\site-packages\\torchio\\utils.py:10\u001b[0m, in \u001b[0;36m<module>\u001b[1;34m\u001b[0m\n\u001b[0;32m      7\u001b[0m \u001b[38;5;28;01mfrom\u001b[39;00m \u001b[38;5;21;01mpathlib\u001b[39;00m \u001b[38;5;28;01mimport\u001b[39;00m Path\n\u001b[0;32m      8\u001b[0m \u001b[38;5;28;01mfrom\u001b[39;00m \u001b[38;5;21;01mtyping\u001b[39;00m \u001b[38;5;28;01mimport\u001b[39;00m Union, Tuple, Any, Optional, List, Sequence, Dict\n\u001b[1;32m---> 10\u001b[0m \u001b[38;5;28;01mimport\u001b[39;00m \u001b[38;5;21;01mtorch\u001b[39;00m\n\u001b[0;32m     11\u001b[0m \u001b[38;5;28;01mfrom\u001b[39;00m \u001b[38;5;21;01mtorch\u001b[39;00m\u001b[38;5;21;01m.\u001b[39;00m\u001b[38;5;21;01mutils\u001b[39;00m\u001b[38;5;21;01m.\u001b[39;00m\u001b[38;5;21;01mdata\u001b[39;00m\u001b[38;5;21;01m.\u001b[39;00m\u001b[38;5;21;01m_utils\u001b[39;00m\u001b[38;5;21;01m.\u001b[39;00m\u001b[38;5;21;01mcollate\u001b[39;00m \u001b[38;5;28;01mimport\u001b[39;00m default_collate\n\u001b[0;32m     12\u001b[0m \u001b[38;5;28;01mimport\u001b[39;00m \u001b[38;5;21;01mnumpy\u001b[39;00m \u001b[38;5;28;01mas\u001b[39;00m \u001b[38;5;21;01mnp\u001b[39;00m\n",
      "File \u001b[1;32mD:\\Programs\\anaconda\\lib\\site-packages\\torch\\__init__.py:129\u001b[0m, in \u001b[0;36m<module>\u001b[1;34m\u001b[0m\n\u001b[0;32m    127\u001b[0m     err \u001b[38;5;241m=\u001b[39m ctypes\u001b[38;5;241m.\u001b[39mWinError(last_error)\n\u001b[0;32m    128\u001b[0m     err\u001b[38;5;241m.\u001b[39mstrerror \u001b[38;5;241m+\u001b[39m\u001b[38;5;241m=\u001b[39m \u001b[38;5;124mf\u001b[39m\u001b[38;5;124m'\u001b[39m\u001b[38;5;124m Error loading \u001b[39m\u001b[38;5;124m\"\u001b[39m\u001b[38;5;132;01m{\u001b[39;00mdll\u001b[38;5;132;01m}\u001b[39;00m\u001b[38;5;124m\"\u001b[39m\u001b[38;5;124m or one of its dependencies.\u001b[39m\u001b[38;5;124m'\u001b[39m\n\u001b[1;32m--> 129\u001b[0m     \u001b[38;5;28;01mraise\u001b[39;00m err\n\u001b[0;32m    130\u001b[0m \u001b[38;5;28;01melif\u001b[39;00m res \u001b[38;5;129;01mis\u001b[39;00m \u001b[38;5;129;01mnot\u001b[39;00m \u001b[38;5;28;01mNone\u001b[39;00m:\n\u001b[0;32m    131\u001b[0m     is_loaded \u001b[38;5;241m=\u001b[39m \u001b[38;5;28;01mTrue\u001b[39;00m\n",
      "\u001b[1;31mOSError\u001b[0m: [WinError 1455] The paging file is too small for this operation to complete. Error loading \"D:\\Programs\\anaconda\\lib\\site-packages\\torch\\lib\\cudnn_cnn_infer64_8.dll\" or one of its dependencies."
     ]
    }
   ],
   "source": [
    "import sys\n",
    "import torchio as tio\n",
    "import pandas as pd \n",
    "import numpy as np\n",
    "from torchvision.utils import save_image\n",
    "import matplotlib.pyplot as plt\n",
    "from PIL import Image\n",
    "from tqdm.notebook import tqdm\n",
    "\n",
    "\n",
    "sys.path.insert(0, '../../scripts/')\n",
    "import data_loader\n",
    "from helpers import miscellaneous as misc\n",
    "\n",
    "CONFIG = misc.get_config()"
   ]
  },
  {
   "cell_type": "code",
   "execution_count": 11,
   "id": "99e688b3-68cc-42f1-8e6a-309842bdba2d",
   "metadata": {},
   "outputs": [
    {
     "data": {
      "text/plain": [
       "{'RAW_DATA_DIR': 'data/raw/',\n",
       " 'PROCESSED_DATA_DIR': 'data/processed/',\n",
       " 'FLATTENED_DATA_DIR': 'data/raw/flattened/',\n",
       " 'SERIALIZED_MODELS': 'models/trained_models/',\n",
       " 'METRICS_DIR': 'models/trained_history/',\n",
       " 'ANNOTATIONS_DIR': 'data/annotations/',\n",
       " 'CDR_DIR': 'data/tabular_data/tabular_data/CDR.csv',\n",
       " 'GDSCALE_DIR': 'data/tabular_data/tabular_data/GDSCALE.csv',\n",
       " 'MMSE_DIR': 'data/tabular_data/tabular_data/MMSE.csv',\n",
       " 'MOCA_DIR': 'data/tabular_data/tabular_data/MOCA.csv',\n",
       " 'NEUROBAT_DIR': 'data/tabular_data/tabular_data/NEUROBAT.csv',\n",
       " 'PTDEMOG_DIR': 'data/tabular_data/tabular_data/PTDEMOG.csv',\n",
       " 'TRAIN_LABELS_DIR': 'data/annotations/train_labels.csv',\n",
       " 'TEST_LABELS_DIR': 'data/annotations/test_labels.csv',\n",
       " 'PLOT_DIR_BINARY': 'reports/plots/',\n",
       " 'SLICED_DATA_DIR': 'data/raw/slices/',\n",
       " 'MODEL': 'TestCNN',\n",
       " 'DEVICE': 'gpu',\n",
       " 'TRAIN_SIZE': 0.8,\n",
       " 'LEARNING_RATE': 0.001,\n",
       " 'BATCH_SIZE': 2,\n",
       " 'EPOCHS': 1,\n",
       " 'NUM_WORKERS': 1,\n",
       " 'TRANSFORMER': 'Test',\n",
       " 'CRITERION': 'CrossEntropy',\n",
       " 'OPTIMIZER': 'Adam',\n",
       " 'WANDB_USER': 'brain-health',\n",
       " 'IMAGE_WIDTH': 900,\n",
       " 'IMAGE_HEIGHT': 900,\n",
       " 'IMAGE_RESIZE': 32,\n",
       " 'DIMENSION': 1,\n",
       " 'NSLICE': 'Center',\n",
       " 'COLOR_SEQUENTIAL': 'bone',\n",
       " 'COLOR_DISCRETE': 'Paired',\n",
       " 'RANDOM_STATE': '42'}"
      ]
     },
     "execution_count": 11,
     "metadata": {},
     "output_type": "execute_result"
    }
   ],
   "source": [
    "CONFIG"
   ]
  },
  {
   "cell_type": "code",
   "execution_count": 83,
   "id": "e4f3f52e-b589-408a-af48-36dedab88766",
   "metadata": {},
   "outputs": [],
   "source": [
    "SLICE = CONFIG['NSLICE']\n",
    "DIMENSION = CONFIG['DIMENSION']"
   ]
  },
  {
   "cell_type": "code",
   "execution_count": 84,
   "id": "d8c666c5-c0fc-4417-acc2-38bcd5ff22e7",
   "metadata": {},
   "outputs": [],
   "source": [
    "train_data = pd.read_csv('../../' + CONFIG['TRAIN_LABELS_DIR'])\n",
    "test_data = pd.read_csv('../../' + CONFIG['TEST_LABELS_DIR'])"
   ]
  },
  {
   "cell_type": "code",
   "execution_count": 130,
   "id": "6a3c3663-a185-40aa-9a2c-237f5c100936",
   "metadata": {},
   "outputs": [
    {
     "data": {
      "application/vnd.jupyter.widget-view+json": {
       "model_id": "97afb2feaadc42e39870897b375402d1",
       "version_major": 2,
       "version_minor": 0
      },
      "text/plain": [
       "  0%|          | 0/1824 [00:00<?, ?it/s]"
      ]
     },
     "metadata": {},
     "output_type": "display_data"
    },
    {
     "data": {
      "application/vnd.jupyter.widget-view+json": {
       "model_id": "fdabcf374dfb46b3b599a8c66a10bcf2",
       "version_major": 2,
       "version_minor": 0
      },
      "text/plain": [
       "  0%|          | 0/470 [00:00<?, ?it/s]"
      ]
     },
     "metadata": {},
     "output_type": "display_data"
    }
   ],
   "source": [
    "def imshow(img):\n",
    "    plt.imshow(img)\n",
    "\n",
    "def save_slices(annotations):\n",
    "\n",
    "    for i in tqdm(range(len(annotations))):\n",
    "        filename = annotations.filename.iloc[i]\n",
    "        if isinstance(filename, str):\n",
    "            name = filename.split('\\\\')[1]\n",
    "            name = name.replace('.nii', '.png')\n",
    "            \n",
    "        else:\n",
    "            continue\n",
    "        \n",
    "        img = tio.ScalarImage(\"../../\" + filename)\n",
    "        \n",
    "        if SLICE == 'Center':\n",
    "            nslice = img.data.size(DIMENSION)//2\n",
    "        else:\n",
    "            nslice = SLICE\n",
    "        \n",
    "        if SLICE:\n",
    "            if DIMENSION == 1:\n",
    "                assert img.data.size()[1] >= nslice, f'[WARN] Nslice is too large. Max allowed: {img.data.size()[1]}'\n",
    "                img = img.data[:, nslice, :, :]\n",
    "            elif DIMENSION == 2:\n",
    "                assert img.data.size()[2] >= nslice, f'[WARN] Nslice is too large. Max allowed: {img.data.size()[2]}'\n",
    "                img = img.data[:, :, nslice, :]\n",
    "            elif DIMENSION == 3:\n",
    "                assert img.data.size()[3] >= nslice, f'[WARN] Nslice is too large. Max allowed: {img.data.size()[3]}'\n",
    "                img = img.data[:, :, :, nslice]\n",
    "\n",
    "        \n",
    "\n",
    "        img = img / 2 + 0.5     # unnormalize\n",
    "        npimg = img.numpy()\n",
    "        npimg = np.squeeze(npimg)\n",
    "        im = Image.fromarray(npimg).convert(\"L\")\n",
    "        im.save(\"../../\" + CONFIG['SLICED_DATA_DIR'] + f'center/{DIMENSION}/' + name)\n",
    "    \n",
    "    \n",
    "# trainset\n",
    "save_slices(train_data)\n",
    "save_slices(test_data)"
   ]
  }
 ],
 "metadata": {
  "kernelspec": {
   "display_name": "Python 3 (ipykernel)",
   "language": "python",
   "name": "python3"
  },
  "language_info": {
   "codemirror_mode": {
    "name": "ipython",
    "version": 3
   },
   "file_extension": ".py",
   "mimetype": "text/x-python",
   "name": "python",
   "nbconvert_exporter": "python",
   "pygments_lexer": "ipython3",
   "version": "3.9.7"
  }
 },
 "nbformat": 4,
 "nbformat_minor": 5
}
