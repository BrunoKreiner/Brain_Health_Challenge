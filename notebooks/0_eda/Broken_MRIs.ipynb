{
 "cells": [
  {
   "cell_type": "code",
   "execution_count": 2,
   "id": "f5457c9c",
   "metadata": {},
   "outputs": [
    {
     "ename": "FloatingPointError",
     "evalue": "overflow encountered in float_scalars",
     "output_type": "error",
     "traceback": [
      "\u001b[1;31m---------------------------------------------------------------------------\u001b[0m",
      "\u001b[1;31mFloatingPointError\u001b[0m                        Traceback (most recent call last)",
      "Input \u001b[1;32mIn [2]\u001b[0m, in \u001b[0;36m<cell line: 44>\u001b[1;34m()\u001b[0m\n\u001b[0;32m     41\u001b[0m         axes[\u001b[38;5;241m1\u001b[39m]\u001b[38;5;241m.\u001b[39mimshow(img_data\u001b[38;5;241m.\u001b[39mdata[\u001b[38;5;241m0\u001b[39m,:,j,:]\u001b[38;5;241m.\u001b[39mT, cmap\u001b[38;5;241m=\u001b[39m\u001b[38;5;124m\"\u001b[39m\u001b[38;5;124mmagma\u001b[39m\u001b[38;5;124m\"\u001b[39m, origin\u001b[38;5;241m=\u001b[39m\u001b[38;5;124m\"\u001b[39m\u001b[38;5;124mlower\u001b[39m\u001b[38;5;124m\"\u001b[39m)\n\u001b[0;32m     42\u001b[0m         axes[\u001b[38;5;241m2\u001b[39m]\u001b[38;5;241m.\u001b[39mimshow(img_data\u001b[38;5;241m.\u001b[39mdata[\u001b[38;5;241m0\u001b[39m,:,:,k]\u001b[38;5;241m.\u001b[39mT, cmap\u001b[38;5;241m=\u001b[39m\u001b[38;5;124m\"\u001b[39m\u001b[38;5;124mmagma\u001b[39m\u001b[38;5;124m\"\u001b[39m, origin\u001b[38;5;241m=\u001b[39m\u001b[38;5;124m\"\u001b[39m\u001b[38;5;124mlower\u001b[39m\u001b[38;5;124m\"\u001b[39m)\n\u001b[1;32m---> 44\u001b[0m img \u001b[38;5;241m=\u001b[39m \u001b[43mpreprocess\u001b[49m\u001b[43m(\u001b[49m\u001b[43mimg\u001b[49m\u001b[43m)\u001b[49m\n\u001b[0;32m     45\u001b[0m \u001b[38;5;28mprint\u001b[39m(img\u001b[38;5;241m.\u001b[39mdata\u001b[38;5;241m.\u001b[39mshape)\n\u001b[0;32m     46\u001b[0m show_slices_torchio(img)\n",
      "File \u001b[1;32m~\\anaconda3\\lib\\site-packages\\torchio\\transforms\\transform.py:140\u001b[0m, in \u001b[0;36mTransform.__call__\u001b[1;34m(self, data)\u001b[0m\n\u001b[0;32m    138\u001b[0m     subject \u001b[38;5;241m=\u001b[39m copy\u001b[38;5;241m.\u001b[39mcopy(subject)\n\u001b[0;32m    139\u001b[0m \u001b[38;5;28;01mwith\u001b[39;00m np\u001b[38;5;241m.\u001b[39merrstate(\u001b[38;5;28mall\u001b[39m\u001b[38;5;241m=\u001b[39m\u001b[38;5;124m'\u001b[39m\u001b[38;5;124mraise\u001b[39m\u001b[38;5;124m'\u001b[39m, under\u001b[38;5;241m=\u001b[39m\u001b[38;5;124m'\u001b[39m\u001b[38;5;124mignore\u001b[39m\u001b[38;5;124m'\u001b[39m):\n\u001b[1;32m--> 140\u001b[0m     transformed \u001b[38;5;241m=\u001b[39m \u001b[38;5;28;43mself\u001b[39;49m\u001b[38;5;241;43m.\u001b[39;49m\u001b[43mapply_transform\u001b[49m\u001b[43m(\u001b[49m\u001b[43msubject\u001b[49m\u001b[43m)\u001b[49m\n\u001b[0;32m    141\u001b[0m \u001b[38;5;28;01mif\u001b[39;00m \u001b[38;5;28mself\u001b[39m\u001b[38;5;241m.\u001b[39mkeep \u001b[38;5;129;01mis\u001b[39;00m \u001b[38;5;129;01mnot\u001b[39;00m \u001b[38;5;28;01mNone\u001b[39;00m:\n\u001b[0;32m    142\u001b[0m     \u001b[38;5;28;01mfor\u001b[39;00m name, image \u001b[38;5;129;01min\u001b[39;00m images_to_keep\u001b[38;5;241m.\u001b[39mitems():\n",
      "File \u001b[1;32m~\\anaconda3\\lib\\site-packages\\torchio\\transforms\\augmentation\\composition.py:47\u001b[0m, in \u001b[0;36mCompose.apply_transform\u001b[1;34m(self, subject)\u001b[0m\n\u001b[0;32m     45\u001b[0m \u001b[38;5;28;01mdef\u001b[39;00m \u001b[38;5;21mapply_transform\u001b[39m(\u001b[38;5;28mself\u001b[39m, subject: Subject) \u001b[38;5;241m-\u001b[39m\u001b[38;5;241m>\u001b[39m Subject:\n\u001b[0;32m     46\u001b[0m     \u001b[38;5;28;01mfor\u001b[39;00m transform \u001b[38;5;129;01min\u001b[39;00m \u001b[38;5;28mself\u001b[39m\u001b[38;5;241m.\u001b[39mtransforms:\n\u001b[1;32m---> 47\u001b[0m         subject \u001b[38;5;241m=\u001b[39m \u001b[43mtransform\u001b[49m\u001b[43m(\u001b[49m\u001b[43msubject\u001b[49m\u001b[43m)\u001b[49m\n\u001b[0;32m     48\u001b[0m     \u001b[38;5;28;01mreturn\u001b[39;00m subject\n",
      "File \u001b[1;32m~\\anaconda3\\lib\\site-packages\\torchio\\transforms\\transform.py:140\u001b[0m, in \u001b[0;36mTransform.__call__\u001b[1;34m(self, data)\u001b[0m\n\u001b[0;32m    138\u001b[0m     subject \u001b[38;5;241m=\u001b[39m copy\u001b[38;5;241m.\u001b[39mcopy(subject)\n\u001b[0;32m    139\u001b[0m \u001b[38;5;28;01mwith\u001b[39;00m np\u001b[38;5;241m.\u001b[39merrstate(\u001b[38;5;28mall\u001b[39m\u001b[38;5;241m=\u001b[39m\u001b[38;5;124m'\u001b[39m\u001b[38;5;124mraise\u001b[39m\u001b[38;5;124m'\u001b[39m, under\u001b[38;5;241m=\u001b[39m\u001b[38;5;124m'\u001b[39m\u001b[38;5;124mignore\u001b[39m\u001b[38;5;124m'\u001b[39m):\n\u001b[1;32m--> 140\u001b[0m     transformed \u001b[38;5;241m=\u001b[39m \u001b[38;5;28;43mself\u001b[39;49m\u001b[38;5;241;43m.\u001b[39;49m\u001b[43mapply_transform\u001b[49m\u001b[43m(\u001b[49m\u001b[43msubject\u001b[49m\u001b[43m)\u001b[49m\n\u001b[0;32m    141\u001b[0m \u001b[38;5;28;01mif\u001b[39;00m \u001b[38;5;28mself\u001b[39m\u001b[38;5;241m.\u001b[39mkeep \u001b[38;5;129;01mis\u001b[39;00m \u001b[38;5;129;01mnot\u001b[39;00m \u001b[38;5;28;01mNone\u001b[39;00m:\n\u001b[0;32m    142\u001b[0m     \u001b[38;5;28;01mfor\u001b[39;00m name, image \u001b[38;5;129;01min\u001b[39;00m images_to_keep\u001b[38;5;241m.\u001b[39mitems():\n",
      "File \u001b[1;32m~\\anaconda3\\lib\\site-packages\\torchio\\transforms\\preprocessing\\intensity\\normalization_transform.py:53\u001b[0m, in \u001b[0;36mNormalizationTransform.apply_transform\u001b[1;34m(self, subject)\u001b[0m\n\u001b[0;32m     47\u001b[0m \u001b[38;5;28;01mfor\u001b[39;00m image_name, image \u001b[38;5;129;01min\u001b[39;00m \u001b[38;5;28mself\u001b[39m\u001b[38;5;241m.\u001b[39mget_images_dict(subject)\u001b[38;5;241m.\u001b[39mitems():\n\u001b[0;32m     48\u001b[0m     mask \u001b[38;5;241m=\u001b[39m \u001b[38;5;28mself\u001b[39m\u001b[38;5;241m.\u001b[39mget_mask_from_masking_method(\n\u001b[0;32m     49\u001b[0m         \u001b[38;5;28mself\u001b[39m\u001b[38;5;241m.\u001b[39mmasking_method,\n\u001b[0;32m     50\u001b[0m         subject,\n\u001b[0;32m     51\u001b[0m         image\u001b[38;5;241m.\u001b[39mdata,\n\u001b[0;32m     52\u001b[0m     )\n\u001b[1;32m---> 53\u001b[0m     \u001b[38;5;28;43mself\u001b[39;49m\u001b[38;5;241;43m.\u001b[39;49m\u001b[43mapply_normalization\u001b[49m\u001b[43m(\u001b[49m\u001b[43msubject\u001b[49m\u001b[43m,\u001b[49m\u001b[43m \u001b[49m\u001b[43mimage_name\u001b[49m\u001b[43m,\u001b[49m\u001b[43m \u001b[49m\u001b[43mmask\u001b[49m\u001b[43m)\u001b[49m\n\u001b[0;32m     54\u001b[0m \u001b[38;5;28;01mreturn\u001b[39;00m subject\n",
      "File \u001b[1;32m~\\anaconda3\\lib\\site-packages\\torchio\\transforms\\preprocessing\\intensity\\rescale.py:68\u001b[0m, in \u001b[0;36mRescaleIntensity.apply_normalization\u001b[1;34m(self, subject, image_name, mask)\u001b[0m\n\u001b[0;32m     61\u001b[0m \u001b[38;5;28;01mdef\u001b[39;00m \u001b[38;5;21mapply_normalization\u001b[39m(\n\u001b[0;32m     62\u001b[0m         \u001b[38;5;28mself\u001b[39m,\n\u001b[0;32m     63\u001b[0m         subject: Subject,\n\u001b[0;32m     64\u001b[0m         image_name: \u001b[38;5;28mstr\u001b[39m,\n\u001b[0;32m     65\u001b[0m         mask: torch\u001b[38;5;241m.\u001b[39mTensor,\n\u001b[0;32m     66\u001b[0m         ) \u001b[38;5;241m-\u001b[39m\u001b[38;5;241m>\u001b[39m \u001b[38;5;28;01mNone\u001b[39;00m:\n\u001b[0;32m     67\u001b[0m     image \u001b[38;5;241m=\u001b[39m subject[image_name]\n\u001b[1;32m---> 68\u001b[0m     image\u001b[38;5;241m.\u001b[39mset_data(\u001b[38;5;28;43mself\u001b[39;49m\u001b[38;5;241;43m.\u001b[39;49m\u001b[43mrescale\u001b[49m\u001b[43m(\u001b[49m\u001b[43mimage\u001b[49m\u001b[38;5;241;43m.\u001b[39;49m\u001b[43mdata\u001b[49m\u001b[43m,\u001b[49m\u001b[43m \u001b[49m\u001b[43mmask\u001b[49m\u001b[43m,\u001b[49m\u001b[43m \u001b[49m\u001b[43mimage_name\u001b[49m\u001b[43m)\u001b[49m)\n",
      "File \u001b[1;32m~\\anaconda3\\lib\\site-packages\\torchio\\transforms\\preprocessing\\intensity\\rescale.py:93\u001b[0m, in \u001b[0;36mRescaleIntensity.rescale\u001b[1;34m(self, tensor, mask, image_name)\u001b[0m\n\u001b[0;32m     91\u001b[0m \u001b[38;5;28;01melse\u001b[39;00m:\n\u001b[0;32m     92\u001b[0m     in_min, in_max \u001b[38;5;241m=\u001b[39m \u001b[38;5;28mself\u001b[39m\u001b[38;5;241m.\u001b[39min_min_max\n\u001b[1;32m---> 93\u001b[0m in_range \u001b[38;5;241m=\u001b[39m \u001b[43min_max\u001b[49m\u001b[43m \u001b[49m\u001b[38;5;241;43m-\u001b[39;49m\u001b[43m \u001b[49m\u001b[43min_min\u001b[49m\n\u001b[0;32m     94\u001b[0m \u001b[38;5;28;01mif\u001b[39;00m in_range \u001b[38;5;241m==\u001b[39m \u001b[38;5;241m0\u001b[39m:  \u001b[38;5;66;03m# should this be compared using a tolerance?\u001b[39;00m\n\u001b[0;32m     95\u001b[0m     message \u001b[38;5;241m=\u001b[39m (\n\u001b[0;32m     96\u001b[0m         \u001b[38;5;124mf\u001b[39m\u001b[38;5;124m'\u001b[39m\u001b[38;5;124mRescaling image \u001b[39m\u001b[38;5;124m\"\u001b[39m\u001b[38;5;132;01m{\u001b[39;00mimage_name\u001b[38;5;132;01m}\u001b[39;00m\u001b[38;5;124m\"\u001b[39m\u001b[38;5;124m not possible\u001b[39m\u001b[38;5;124m'\u001b[39m\n\u001b[0;32m     97\u001b[0m         \u001b[38;5;124m'\u001b[39m\u001b[38;5;124m because all the intensity values are the same\u001b[39m\u001b[38;5;124m'\u001b[39m\n\u001b[0;32m     98\u001b[0m     )\n",
      "\u001b[1;31mFloatingPointError\u001b[0m: overflow encountered in float_scalars"
     ]
    }
   ],
   "source": [
    "import os\n",
    "os.environ['KMP_DUPLICATE_LIB_OK']='True'\n",
    "import numpy as np\n",
    "import sys\n",
    "from nibabel.testing import data_path\n",
    "import nibabel as nib\n",
    "import matplotlib.pyplot as plt\n",
    "from ipywidgets import interact, IntSlider\n",
    "import torchio\n",
    "import torch\n",
    "from torchvision import transforms\n",
    "from monai.data import ITKReader, PILReader\n",
    "from monai.transforms import LoadImage\n",
    "\n",
    "import SimpleITK as sitk\n",
    "\n",
    "sys.path.insert(0, '../../scripts/')\n",
    "from helpers import miscellaneous as misc\n",
    "CONFIG = misc.get_config()\n",
    "\n",
    "img = torchio.ScalarImage(\"../../data/raw/broken_images/ADNI_010_S_0067_MR_MPR-R____N3__Scaled_Br_20070807151408143_S17808_I65577.nii\")\n",
    "\n",
    "preprocess = torchio.Compose([\n",
    "            torchio.RescaleIntensity((-1, 1)),\n",
    "            torchio.Resample((1,1,1)),\n",
    "            #torchio.EnsureShapeMultiple(8),\n",
    "            torchio.Resize((200,200,150))\n",
    "        ])\n",
    "\n",
    "def show_slices_torchio(img_data):\n",
    "    paramtools = {\n",
    "        'i': IntSlider(min=0, max=img_data.shape[1]-1, step=1),\n",
    "        'j': IntSlider(min=0, max=img_data.shape[2]-1, step=1),\n",
    "        'k': IntSlider(min=0, max=img_data.shape[3]-1, step=1),\n",
    "    }\n",
    "    \n",
    "    @interact(**paramtools)\n",
    "    def show_interactive(i, j, k):\n",
    "        fig, axes = plt.subplots(1, 3, figsize=(25,25))\n",
    "        axes[0].imshow(img_data.data[0,i,:,:].T, cmap=\"magma\", origin=\"lower\")\n",
    "        axes[1].imshow(img_data.data[0,:,j,:].T, cmap=\"magma\", origin=\"lower\")\n",
    "        axes[2].imshow(img_data.data[0,:,:,k].T, cmap=\"magma\", origin=\"lower\")\n",
    "        \n",
    "img = preprocess(img)\n",
    "print(img.data.shape)\n",
    "show_slices_torchio(img)"
   ]
  },
  {
   "cell_type": "code",
   "execution_count": 3,
   "id": "95d869f4",
   "metadata": {},
   "outputs": [
    {
     "data": {
      "application/vnd.jupyter.widget-view+json": {
       "model_id": "5b900ab9a79049479c7b4b7b7c4c51a2",
       "version_major": 2,
       "version_minor": 0
      },
      "text/plain": [
       "interactive(children=(IntSlider(value=0, description='i', max=255), IntSlider(value=0, description='j', max=25…"
      ]
     },
     "metadata": {},
     "output_type": "display_data"
    }
   ],
   "source": [
    "show_slices_torchio(img)"
   ]
  },
  {
   "cell_type": "code",
   "execution_count": 9,
   "id": "f8e7fb5b",
   "metadata": {},
   "outputs": [
    {
     "name": "stdout",
     "output_type": "stream",
     "text": [
      "min:  tensor(-3.4027e+38)\n",
      "max:  tensor(3.4023e+38)\n"
     ]
    }
   ],
   "source": [
    "print(\"min: \", img.data.min())\n",
    "print(\"max: \", img.data.max())"
   ]
  },
  {
   "cell_type": "code",
   "execution_count": 12,
   "id": "3f1ba43a",
   "metadata": {},
   "outputs": [
    {
     "data": {
      "application/vnd.jupyter.widget-view+json": {
       "model_id": "d20da1e9678b4b53bdc51d9d5f54707c",
       "version_major": 2,
       "version_minor": 0
      },
      "text/plain": [
       "interactive(children=(IntSlider(value=0, description='i', max=255), IntSlider(value=0, description='j', max=25…"
      ]
     },
     "metadata": {},
     "output_type": "display_data"
    },
    {
     "name": "stdout",
     "output_type": "stream",
     "text": [
      "min:  tensor(0.)\n",
      "max:  tensor(2685.6677)\n"
     ]
    }
   ],
   "source": [
    "good_img = torchio.ScalarImage(\"../../data/raw/flattened/ADNI_002_S_0295_MR_MPR__GradWarp__B1_Correction__N3__Scaled_2_Br_20081001120532722_S21856_I118692.nii\")\n",
    "show_slices_torchio(good_img)\n",
    "print(\"min: \", good_img.data.min())\n",
    "print(\"max: \", good_img.data.max())"
   ]
  },
  {
   "cell_type": "code",
   "execution_count": null,
   "id": "5486734b",
   "metadata": {},
   "outputs": [],
   "source": []
  }
 ],
 "metadata": {
  "kernelspec": {
   "display_name": "Python 3 (ipykernel)",
   "language": "python",
   "name": "python3"
  },
  "language_info": {
   "codemirror_mode": {
    "name": "ipython",
    "version": 3
   },
   "file_extension": ".py",
   "mimetype": "text/x-python",
   "name": "python",
   "nbconvert_exporter": "python",
   "pygments_lexer": "ipython3",
   "version": "3.9.7"
  }
 },
 "nbformat": 4,
 "nbformat_minor": 5
}
