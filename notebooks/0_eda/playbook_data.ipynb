{
 "cells": [
  {
   "cell_type": "markdown",
   "id": "73eb7602-0dc9-45ed-9d26-60beae3597d0",
   "metadata": {},
   "source": [
    "### NIfTI images\n",
    "\n",
    "- https://nipy.org/nibabel/gettingstarted.html\n",
    "- https://nipy.org/nibabel/nibabel_images.html\n",
    "- https://nipy.org/nibabel/nifti_images.html"
   ]
  },
  {
   "cell_type": "code",
   "execution_count": 1,
   "id": "f6b186c0-dd2b-456b-b019-025effd7f22a",
   "metadata": {},
   "outputs": [
    {
     "name": "stdout",
     "output_type": "stream",
     "text": [
      "shape: (128, 96, 24, 2)\n",
      "units: ('mm', 'sec')\n"
     ]
    }
   ],
   "source": [
    "import os\n",
    "import numpy as np\n",
    "\n",
    "# on your computer something like: conda install -c conda-forge nibabel\n",
    "\n",
    "from nibabel.testing import data_path\n",
    "\n",
    "example_filename = os.path.join(data_path, 'example4d.nii.gz')\n",
    "import nibabel as nib\n",
    "img = nib.load(example_filename)\n",
    "print('shape:', img.shape)\n",
    "hdr = img.header\n",
    "print('units:', hdr.get_xyzt_units())"
   ]
  },
  {
   "cell_type": "code",
   "execution_count": 2,
   "id": "cedba512-b5bf-47e8-aca9-da9f10de41d9",
   "metadata": {},
   "outputs": [
    {
     "data": {
      "text/plain": [
       "(53, 61, 33)"
      ]
     },
     "execution_count": 2,
     "metadata": {},
     "output_type": "execute_result"
    }
   ],
   "source": [
    "epi_img = nib.load('../../data/dummy_data/someones_epi.nii.gz')\n",
    "epi_img_data = epi_img.get_fdata()\n",
    "epi_img_data.shape\n",
    "(53, 61, 33)"
   ]
  },
  {
   "cell_type": "code",
   "execution_count": 3,
   "id": "725c42b0-8a99-4d00-af7a-97b46dc6bd13",
   "metadata": {},
   "outputs": [],
   "source": [
    "import matplotlib.pyplot as plt\n",
    "from ipywidgets import interact, IntSlider\n",
    "\n",
    "def show_slices(img_data):\n",
    "    paramtools = {\n",
    "        'i': IntSlider(min=0, max=img_data.shape[0]-1, step=1),\n",
    "        'j': IntSlider(min=0, max=img_data.shape[1]-1, step=1),\n",
    "        'k': IntSlider(min=0, max=img_data.shape[2]-1, step=1),\n",
    "    }\n",
    "    \n",
    "    @interact(**paramtools)\n",
    "    def show_interactive(i, j, k):\n",
    "        fig, axes = plt.subplots(1, 3, figsize=(25,25))\n",
    "        axes[0].imshow(img_data[i,:,:].T, cmap=\"magma\", origin=\"lower\")\n",
    "        axes[1].imshow(img_data[:,j,:].T, cmap=\"magma\", origin=\"lower\")\n",
    "        axes[2].imshow(img_data[:,:,k].T, cmap=\"magma\", origin=\"lower\")\n",
    "        # hint with varying cmaps: https://matplotlib.org/stable/tutorials/colors/colormaps.html\n",
    "    "
   ]
  },
  {
   "cell_type": "code",
   "execution_count": 4,
   "id": "285e55e1-fda6-49bc-9d08-212514311b0d",
   "metadata": {},
   "outputs": [
    {
     "name": "stdout",
     "output_type": "stream",
     "text": [
      "(61, 33)\n"
     ]
    },
    {
     "ename": "AttributeError",
     "evalue": "module 'nibabel' has no attribute 'plotting'",
     "output_type": "error",
     "traceback": [
      "\u001b[1;31m---------------------------------------------------------------------------\u001b[0m",
      "\u001b[1;31mAttributeError\u001b[0m                            Traceback (most recent call last)",
      "\u001b[1;32m~\\AppData\\Local\\Temp/ipykernel_9808/4088104079.py\u001b[0m in \u001b[0;36m<module>\u001b[1;34m\u001b[0m\n\u001b[0;32m      1\u001b[0m \u001b[0mprint\u001b[0m\u001b[1;33m(\u001b[0m\u001b[0mepi_img_data\u001b[0m\u001b[1;33m[\u001b[0m\u001b[1;36m0\u001b[0m\u001b[1;33m,\u001b[0m\u001b[1;33m:\u001b[0m\u001b[1;33m,\u001b[0m\u001b[1;33m:\u001b[0m\u001b[1;33m]\u001b[0m\u001b[1;33m.\u001b[0m\u001b[0mshape\u001b[0m\u001b[1;33m)\u001b[0m\u001b[1;33m\u001b[0m\u001b[1;33m\u001b[0m\u001b[0m\n\u001b[1;32m----> 2\u001b[1;33m \u001b[0mnib\u001b[0m\u001b[1;33m.\u001b[0m\u001b[0mplotting\u001b[0m\u001b[1;33m.\u001b[0m\u001b[0mplot_anat\u001b[0m\u001b[1;33m\u001b[0m\u001b[1;33m\u001b[0m\u001b[0m\n\u001b[0m",
      "\u001b[1;31mAttributeError\u001b[0m: module 'nibabel' has no attribute 'plotting'"
     ]
    }
   ],
   "source": [
    "print(epi_img_data[0,:,:].shape)\n",
    "nib.plotting.plot_anat"
   ]
  },
  {
   "cell_type": "code",
   "execution_count": 5,
   "id": "96af7f93-0527-48c8-84b2-80ce08358fef",
   "metadata": {},
   "outputs": [
    {
     "data": {
      "application/vnd.jupyter.widget-view+json": {
       "model_id": "9ee8f3181f234334948799629950bb9b",
       "version_major": 2,
       "version_minor": 0
      },
      "text/plain": [
       "interactive(children=(IntSlider(value=0, description='i', max=52), IntSlider(value=0, description='j', max=60)…"
      ]
     },
     "metadata": {},
     "output_type": "display_data"
    }
   ],
   "source": [
    "show_slices(epi_img_data)"
   ]
  },
  {
   "cell_type": "code",
   "execution_count": 6,
   "id": "f69ddcf7-5040-4dbb-a23b-5f44a983d3a2",
   "metadata": {},
   "outputs": [
    {
     "data": {
      "application/vnd.jupyter.widget-view+json": {
       "model_id": "6f77f107e7c449e89061e7e9949b5091",
       "version_major": 2,
       "version_minor": 0
      },
      "text/plain": [
       "interactive(children=(IntSlider(value=0, description='i', max=56), IntSlider(value=0, description='j', max=66)…"
      ]
     },
     "metadata": {},
     "output_type": "display_data"
    }
   ],
   "source": [
    "anat_img = nib.load('../../data/dummy_data/someones_anatomy.nii.gz')\n",
    "anat_img_data = anat_img.get_fdata()\n",
    "show_slices(anat_img_data)"
   ]
  },
  {
   "cell_type": "markdown",
   "id": "cb0eda9d-4b5f-4934-8168-91ac5f90a7e5",
   "metadata": {},
   "source": [
    "### Load ADNI image data from NIfTI file"
   ]
  },
  {
   "cell_type": "code",
   "execution_count": 20,
   "id": "42bdbfa4-4799-44c5-9ca5-ea2cc7261776",
   "metadata": {},
   "outputs": [
    {
     "name": "stdout",
     "output_type": "stream",
     "text": [
      " Volume in drive Z is New Volume\n",
      " Volume Serial Number is 3E87-EE5B\n",
      "\n",
      " Directory of Z:\\brain-health\\fhnw_ds_fs22_cdl1_cml1_Brain_Health_Challenge\\data\\dummy_data\n",
      "\n",
      "03/03/2022  17:16    <DIR>          .\n",
      "03/03/2022  17:18    <DIR>          ..\n",
      "03/03/2022  17:14        43’516’256 ADNI_002_S_0413_MR_MPR__GradWarp__B1_Correction__N3__Scaled_2_Br_20081001114742166_S13893_I118673.nii\n",
      "03/03/2022  17:14        43’516’256 ADNI_002_S_0413_MR_MPR__GradWarp__B1_Correction__N3__Scaled_2_Br_20081001120813046_S22557_I118695.nii\n",
      "03/03/2022  17:14           191’449 someones_anatomy.nii.gz\n",
      "03/03/2022  17:14            93’766 someones_epi.nii.gz\n",
      "               4 File(s)     87’317’727 bytes\n",
      "               2 Dir(s)  706’974’109’696 bytes free\n"
     ]
    }
   ],
   "source": [
    "#what does this do?\n",
    "\n",
    "!dir \"../../data/dummy_data\""
   ]
  },
  {
   "cell_type": "code",
   "execution_count": 19,
   "id": "be803281-079e-49d3-950d-ce158acbcec7",
   "metadata": {},
   "outputs": [
    {
     "name": "stdout",
     "output_type": "stream",
     "text": [
      "shape:  (256, 256, 166)\n"
     ]
    },
    {
     "data": {
      "application/vnd.jupyter.widget-view+json": {
       "model_id": "d0021de4ac9f4addbe4eb51bd0cef131",
       "version_major": 2,
       "version_minor": 0
      },
      "text/plain": [
       "interactive(children=(IntSlider(value=0, description='i', max=255), IntSlider(value=0, description='j', max=25…"
      ]
     },
     "metadata": {},
     "output_type": "display_data"
    }
   ],
   "source": [
    "adni_img = nib.load('../../data/dummy_data/ADNI_002_S_0413_MR_MPR__GradWarp__B1_Correction__N3__Scaled_2_Br_20081001114742166_S13893_I118673.nii')\n",
    "img = adni_img.get_fdata()\n",
    "img2 = np.reshape(img, (img.shape[0], img.shape[1], img.shape[2]))\n",
    "print('shape: ', img2.shape)\n",
    "show_slices(img2)\n",
    "#optionally todo with nibabel: rotate -> use affine transformations"
   ]
  },
  {
   "cell_type": "code",
   "execution_count": 13,
   "id": "da11b778-17df-4829-b9eb-1679611b40ec",
   "metadata": {},
   "outputs": [
    {
     "name": "stdout",
     "output_type": "stream",
     "text": [
      "<class 'nibabel.nifti1.Nifti1Header'> object, endian='>'\n",
      "sizeof_hdr      : 348\n",
      "data_type       : b''\n",
      "db_name         : b'002_S_0413'\n",
      "extents         : 0\n",
      "session_error   : 0\n",
      "regular         : b'r'\n",
      "dim_info        : 0\n",
      "dim             : [  3 256 256 166   1   1   1   1]\n",
      "intent_p1       : 0.0\n",
      "intent_p2       : 0.0\n",
      "intent_p3       : 0.0\n",
      "intent_code     : none\n",
      "datatype        : float32\n",
      "bitpix          : 32\n",
      "slice_start     : 0\n",
      "pixdim          : [1.         0.94779843 0.9375     1.2022356  1.         1.\n",
      " 1.         1.        ]\n",
      "vox_offset      : 0.0\n",
      "scl_slope       : nan\n",
      "scl_inter       : nan\n",
      "slice_end       : 0\n",
      "slice_code      : unknown\n",
      "xyzt_units      : 2\n",
      "cal_max         : 0.0\n",
      "cal_min         : 0.0\n",
      "slice_duration  : 0.0\n",
      "toffset         : 0.0\n",
      "glmax           : 2495\n",
      "glmin           : 0\n",
      "descrip         : b'MPR; GradWarp; B1 Correction; N3; Scaled_2'\n",
      "aux_file        : b'none'\n",
      "qform_code      : scanner\n",
      "sform_code      : unknown\n",
      "quatern_b       : 0.70710677\n",
      "quatern_c       : -5.3598925e-09\n",
      "quatern_d       : -0.70710677\n",
      "qoffset_x       : 97.0974\n",
      "qoffset_y       : 154.605\n",
      "qoffset_z       : 108.751\n",
      "srow_x          : [0. 0. 0. 0.]\n",
      "srow_y          : [0. 0. 0. 0.]\n",
      "srow_z          : [0. 0. 0. 0.]\n",
      "intent_name     : b''\n",
      "magic           : b'n+1'\n"
     ]
    }
   ],
   "source": [
    "hdr = adni_img.header\n",
    "print(hdr)"
   ]
  },
  {
   "cell_type": "code",
   "execution_count": null,
   "id": "3f612d9a-872a-4ae6-b701-4d1de5d8e648",
   "metadata": {},
   "outputs": [],
   "source": []
  }
 ],
 "metadata": {
  "kernelspec": {
   "display_name": "Python 3 (ipykernel)",
   "language": "python",
   "name": "python3"
  },
  "language_info": {
   "codemirror_mode": {
    "name": "ipython",
    "version": 3
   },
   "file_extension": ".py",
   "mimetype": "text/x-python",
   "name": "python",
   "nbconvert_exporter": "python",
   "pygments_lexer": "ipython3",
   "version": "3.9.7"
  }
 },
 "nbformat": 4,
 "nbformat_minor": 5
}
