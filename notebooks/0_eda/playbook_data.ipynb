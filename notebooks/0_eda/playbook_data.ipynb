{
 "cells": [
  {
   "cell_type": "markdown",
   "id": "73eb7602-0dc9-45ed-9d26-60beae3597d0",
   "metadata": {},
   "source": [
    "### NIfTI images\n",
    "\n",
    "- https://nipy.org/nibabel/gettingstarted.html\n",
    "- https://nipy.org/nibabel/nibabel_images.html\n",
    "- https://nipy.org/nibabel/nifti_images.html"
   ]
  },
  {
   "cell_type": "code",
   "execution_count": 1,
   "id": "f6b186c0-dd2b-456b-b019-025effd7f22a",
   "metadata": {},
   "outputs": [
    {
     "name": "stdout",
     "output_type": "stream",
     "text": [
      "shape: (128, 96, 24, 2)\n",
      "units: ('mm', 'sec')\n"
     ]
    }
   ],
   "source": [
    "import os\n",
    "import numpy as np\n",
    "import matplotlib.pyplot as plt\n",
    "%matplotlib inline\n",
    "\n",
    "# on your computer something like: conda install -c conda-forge nibabel\n",
    "\n",
    "from nibabel.testing import data_path\n",
    "\n",
    "example_filename = os.path.join(data_path, 'example4d.nii.gz')\n",
    "import nibabel as nib\n",
    "img = nib.load(example_filename)\n",
    "print('shape:', img.shape)\n",
    "hdr = img.header\n",
    "print('units:', hdr.get_xyzt_units())"
   ]
  },
  {
   "cell_type": "code",
   "execution_count": 2,
   "id": "cedba512-b5bf-47e8-aca9-da9f10de41d9",
   "metadata": {},
   "outputs": [
    {
     "data": {
      "text/plain": [
       "(256, 256, 170)"
      ]
     },
     "execution_count": 2,
     "metadata": {},
     "output_type": "execute_result"
    }
   ],
   "source": [
    "epi_img = nib.load('../../data/raw/flattened/ADNI_018_S_0682_MR_MPR____N3__Scaled_Br_20070101224115510_S16293_I35044.nii')\n",
    "epi_img_data = epi_img.get_fdata()\n",
    "epi_img_data.shape\n",
    "#(53, 61, 33)"
   ]
  },
  {
   "cell_type": "code",
   "execution_count": 3,
   "id": "725c42b0-8a99-4d00-af7a-97b46dc6bd13",
   "metadata": {},
   "outputs": [],
   "source": [
    "import matplotlib.pyplot as plt\n",
    "from ipywidgets import interact, IntSlider\n",
    "\n",
    "def show_slices(img_data):\n",
    "    paramtools = {\n",
    "        'i': IntSlider(min=0, max=img_data.shape[0]-1, step=1),\n",
    "        'j': IntSlider(min=0, max=img_data.shape[1]-1, step=1),\n",
    "        'k': IntSlider(min=0, max=img_data.shape[2]-1, step=1),\n",
    "    }\n",
    "    \n",
    "    @interact(**paramtools)\n",
    "    def show_interactive(i, j, k):\n",
    "        fig, axes = plt.subplots(1, 3, figsize=(16,9))\n",
    "        axes[0].imshow(img_data[i,:,:].T, cmap=\"bone\", origin=\"lower\")\n",
    "        axes[1].imshow(img_data[:,j,:].T, cmap=\"bone\", origin=\"lower\")\n",
    "        axes[2].imshow(img_data[:,:,k].T, cmap=\"bone\", origin=\"lower\")\n",
    "        axes[0].set_title('Coronal Plane')\n",
    "        axes[1].set_title('Transverse Plane')\n",
    "        axes[2].set_title('Sagittal Plane')\n",
    "        # hint with varying cmaps: https://matplotlib.org/stable/tutorials/colors/colormaps.html\n",
    "    "
   ]
  },
  {
   "cell_type": "code",
   "execution_count": 4,
   "id": "285e55e1-fda6-49bc-9d08-212514311b0d",
   "metadata": {},
   "outputs": [
    {
     "name": "stdout",
     "output_type": "stream",
     "text": [
      "(256, 170)\n"
     ]
    },
    {
     "ename": "AttributeError",
     "evalue": "module 'nibabel' has no attribute 'plotting'",
     "output_type": "error",
     "traceback": [
      "\u001b[1;31m---------------------------------------------------------------------------\u001b[0m",
      "\u001b[1;31mAttributeError\u001b[0m                            Traceback (most recent call last)",
      "Input \u001b[1;32mIn [4]\u001b[0m, in \u001b[0;36m<cell line: 2>\u001b[1;34m()\u001b[0m\n\u001b[0;32m      1\u001b[0m \u001b[38;5;28mprint\u001b[39m(epi_img_data[\u001b[38;5;241m0\u001b[39m,:,:]\u001b[38;5;241m.\u001b[39mshape)\n\u001b[1;32m----> 2\u001b[0m \u001b[43mnib\u001b[49m\u001b[38;5;241;43m.\u001b[39;49m\u001b[43mplotting\u001b[49m\u001b[38;5;241m.\u001b[39mplot_anat\n",
      "\u001b[1;31mAttributeError\u001b[0m: module 'nibabel' has no attribute 'plotting'"
     ]
    }
   ],
   "source": [
    "print(epi_img_data[0,:,:].shape)\n",
    "nib.plotting.plot_anat"
   ]
  },
  {
   "cell_type": "code",
   "execution_count": 5,
   "id": "96af7f93-0527-48c8-84b2-80ce08358fef",
   "metadata": {},
   "outputs": [
    {
     "data": {
      "application/vnd.jupyter.widget-view+json": {
       "model_id": "43e97b0645844d5da0cdc9c3d46a752d",
       "version_major": 2,
       "version_minor": 0
      },
      "text/plain": [
       "interactive(children=(IntSlider(value=0, description='i', max=255), IntSlider(value=0, description='j', max=25…"
      ]
     },
     "metadata": {},
     "output_type": "display_data"
    }
   ],
   "source": [
    "show_slices(epi_img_data)"
   ]
  },
  {
   "cell_type": "code",
   "execution_count": 6,
   "id": "f69ddcf7-5040-4dbb-a23b-5f44a983d3a2",
   "metadata": {},
   "outputs": [
    {
     "data": {
      "application/vnd.jupyter.widget-view+json": {
       "model_id": "4fddda54d05943999d7e347d584940e0",
       "version_major": 2,
       "version_minor": 0
      },
      "text/plain": [
       "interactive(children=(IntSlider(value=0, description='i', max=56), IntSlider(value=0, description='j', max=66)…"
      ]
     },
     "metadata": {},
     "output_type": "display_data"
    }
   ],
   "source": [
    "anat_img = nib.load('../../data/dummy_data/someones_anatomy.nii.gz')\n",
    "anat_img_data = anat_img.get_fdata()\n",
    "show_slices(anat_img_data)"
   ]
  },
  {
   "cell_type": "markdown",
   "id": "cb0eda9d-4b5f-4934-8168-91ac5f90a7e5",
   "metadata": {},
   "source": [
    "### Load ADNI image data from NIfTI file"
   ]
  },
  {
   "cell_type": "code",
   "execution_count": 6,
   "id": "42bdbfa4-4799-44c5-9ca5-ea2cc7261776",
   "metadata": {},
   "outputs": [
    {
     "name": "stdout",
     "output_type": "stream",
     "text": [
      " Volume in drive D is Arktis\n",
      " Volume Serial Number is AEF1-1D81\n",
      "\n",
      " Directory of D:\\FHNW\\Challenges\\fhnw_ds_fs22_cdl1_cml1_Brain_Health_Challenge\\data\n",
      "\n"
     ]
    },
    {
     "name": "stderr",
     "output_type": "stream",
     "text": [
      "File Not Found\n"
     ]
    }
   ],
   "source": [
    "#what does this do?\n",
    "\n",
    "!dir \"../../data/dummy_data\""
   ]
  },
  {
   "cell_type": "code",
   "execution_count": 32,
   "id": "be803281-079e-49d3-950d-ce158acbcec7",
   "metadata": {},
   "outputs": [
    {
     "name": "stdout",
     "output_type": "stream",
     "text": [
      "shape:  (256, 256, 170)\n"
     ]
    },
    {
     "data": {
      "application/vnd.jupyter.widget-view+json": {
       "model_id": "4c4e3de94d8c4210b2f259331896fd2f",
       "version_major": 2,
       "version_minor": 0
      },
      "text/plain": [
       "interactive(children=(IntSlider(value=0, description='i', max=255), IntSlider(value=0, description='j', max=25…"
      ]
     },
     "metadata": {},
     "output_type": "display_data"
    }
   ],
   "source": [
    "adni_img = nib.load('../../data/raw/flattened/ADNI_018_S_0682_MR_MPR____N3__Scaled_Br_20070101224115510_S16293_I35044.nii')\n",
    "img = adni_img.get_fdata()\n",
    "#img2 = np.reshape(img, (img.shape[0], img.shape[1], img.shape[2]))\n",
    "print('shape: ', img2.shape)\n",
    "img = np.rot90(img, axes=(1,0))\n",
    "show_slices(img)\n",
    "#optionally todo with nibabel: rotate -> use affine transformations"
   ]
  },
  {
   "cell_type": "code",
   "execution_count": 13,
   "id": "da11b778-17df-4829-b9eb-1679611b40ec",
   "metadata": {},
   "outputs": [
    {
     "name": "stdout",
     "output_type": "stream",
     "text": [
      "<class 'nibabel.nifti1.Nifti1Header'> object, endian='>'\n",
      "sizeof_hdr      : 348\n",
      "data_type       : b''\n",
      "db_name         : b'002_S_0413'\n",
      "extents         : 0\n",
      "session_error   : 0\n",
      "regular         : b'r'\n",
      "dim_info        : 0\n",
      "dim             : [  3 256 256 166   1   1   1   1]\n",
      "intent_p1       : 0.0\n",
      "intent_p2       : 0.0\n",
      "intent_p3       : 0.0\n",
      "intent_code     : none\n",
      "datatype        : float32\n",
      "bitpix          : 32\n",
      "slice_start     : 0\n",
      "pixdim          : [1.         0.94779843 0.9375     1.2022356  1.         1.\n",
      " 1.         1.        ]\n",
      "vox_offset      : 0.0\n",
      "scl_slope       : nan\n",
      "scl_inter       : nan\n",
      "slice_end       : 0\n",
      "slice_code      : unknown\n",
      "xyzt_units      : 2\n",
      "cal_max         : 0.0\n",
      "cal_min         : 0.0\n",
      "slice_duration  : 0.0\n",
      "toffset         : 0.0\n",
      "glmax           : 2495\n",
      "glmin           : 0\n",
      "descrip         : b'MPR; GradWarp; B1 Correction; N3; Scaled_2'\n",
      "aux_file        : b'none'\n",
      "qform_code      : scanner\n",
      "sform_code      : unknown\n",
      "quatern_b       : 0.70710677\n",
      "quatern_c       : -5.3598925e-09\n",
      "quatern_d       : -0.70710677\n",
      "qoffset_x       : 97.0974\n",
      "qoffset_y       : 154.605\n",
      "qoffset_z       : 108.751\n",
      "srow_x          : [0. 0. 0. 0.]\n",
      "srow_y          : [0. 0. 0. 0.]\n",
      "srow_z          : [0. 0. 0. 0.]\n",
      "intent_name     : b''\n",
      "magic           : b'n+1'\n"
     ]
    }
   ],
   "source": [
    "hdr = adni_img.header\n",
    "print(hdr)"
   ]
  },
  {
   "cell_type": "code",
   "execution_count": null,
   "id": "3f612d9a-872a-4ae6-b701-4d1de5d8e648",
   "metadata": {},
   "outputs": [],
   "source": []
  }
 ],
 "metadata": {
  "kernelspec": {
   "display_name": "Python 3 (ipykernel)",
   "language": "python",
   "name": "python3"
  },
  "language_info": {
   "codemirror_mode": {
    "name": "ipython",
    "version": 3
   },
   "file_extension": ".py",
   "mimetype": "text/x-python",
   "name": "python",
   "nbconvert_exporter": "python",
   "pygments_lexer": "ipython3",
   "version": "3.9.7"
  }
 },
 "nbformat": 4,
 "nbformat_minor": 5
}
