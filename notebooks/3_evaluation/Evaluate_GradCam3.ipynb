{
 "cells": [
  {
   "cell_type": "code",
   "execution_count": 4,
   "metadata": {},
   "outputs": [
    {
     "name": "stdout",
     "output_type": "stream",
     "text": [
      "Collecting pytorch-gradcam\n",
      "  Downloading pytorch-gradcam-0.2.1.tar.gz (6.0 MB)\n",
      "Requirement already satisfied: opencv-python in c:\\users\\bruno\\anaconda3\\lib\\site-packages (from pytorch-gradcam) (4.5.5.64)\n",
      "Requirement already satisfied: numpy in c:\\users\\bruno\\anaconda3\\lib\\site-packages (from pytorch-gradcam) (1.20.3)\n",
      "Building wheels for collected packages: pytorch-gradcam\n",
      "  Building wheel for pytorch-gradcam (setup.py): started\n",
      "  Building wheel for pytorch-gradcam (setup.py): finished with status 'done'\n",
      "  Created wheel for pytorch-gradcam: filename=pytorch_gradcam-0.2.1-py3-none-any.whl size=5269 sha256=1ed491720611f7e64ebc28318a382102e6f0e3f0c4b4675528b0e94593774b5a\n",
      "  Stored in directory: c:\\users\\bruno\\appdata\\local\\pip\\cache\\wheels\\dd\\3c\\0e\\8b7512f5d7f462c9c37342107b7f0276609345f246ae4e75fc\n",
      "Successfully built pytorch-gradcam\n",
      "Installing collected packages: pytorch-gradcam\n",
      "Successfully installed pytorch-gradcam-0.2.1\n"
     ]
    }
   ],
   "source": [
    "!pip install pytorch-gradcam"
   ]
  },
  {
   "cell_type": "code",
   "execution_count": 14,
   "metadata": {},
   "outputs": [
    {
     "ename": "ModuleNotFoundError",
     "evalue": "No module named 'gradcam.utils.image'; 'gradcam.utils' is not a package",
     "output_type": "error",
     "traceback": [
      "\u001b[1;31m---------------------------------------------------------------------------\u001b[0m",
      "\u001b[1;31mModuleNotFoundError\u001b[0m                       Traceback (most recent call last)",
      "Input \u001b[1;32mIn [14]\u001b[0m, in \u001b[0;36m<cell line: 10>\u001b[1;34m()\u001b[0m\n\u001b[0;32m      8\u001b[0m \u001b[38;5;28;01mimport\u001b[39;00m \u001b[38;5;21;01mtorchvision\u001b[39;00m\u001b[38;5;21;01m.\u001b[39;00m\u001b[38;5;21;01mtransforms\u001b[39;00m \u001b[38;5;28;01mas\u001b[39;00m \u001b[38;5;21;01mtransforms\u001b[39;00m\n\u001b[0;32m      9\u001b[0m \u001b[38;5;66;03m#from gradcam import EigenCAM\u001b[39;00m\n\u001b[1;32m---> 10\u001b[0m \u001b[38;5;28;01mfrom\u001b[39;00m \u001b[38;5;21;01mgradcam\u001b[39;00m\u001b[38;5;21;01m.\u001b[39;00m\u001b[38;5;21;01mutils\u001b[39;00m\u001b[38;5;21;01m.\u001b[39;00m\u001b[38;5;21;01mimage\u001b[39;00m \u001b[38;5;28;01mimport\u001b[39;00m show_cam_on_image, scale_cam_image\n\u001b[0;32m     11\u001b[0m \u001b[38;5;28;01mfrom\u001b[39;00m \u001b[38;5;21;01mPIL\u001b[39;00m \u001b[38;5;28;01mimport\u001b[39;00m Image\n\u001b[0;32m     12\u001b[0m \u001b[38;5;28;01mimport\u001b[39;00m \u001b[38;5;21;01msys\u001b[39;00m\n",
      "\u001b[1;31mModuleNotFoundError\u001b[0m: No module named 'gradcam.utils.image'; 'gradcam.utils' is not a package"
     ]
    }
   ],
   "source": [
    "import warnings\n",
    "warnings.filterwarnings('ignore')\n",
    "warnings.simplefilter('ignore')\n",
    "import torch\n",
    "import cv2\n",
    "import numpy as np\n",
    "import requests\n",
    "import torchvision.transforms as transforms\n",
    "#from gradcam import EigenCAM\n",
    "from gradcam.utils.image import show_cam_on_image, scale_cam_image\n",
    "from PIL import Image\n",
    "import sys\n",
    "from torchvision.io import read_image\n",
    "\n",
    "\n",
    "sys.path.insert(0, '../../scripts/')\n",
    "from nets.baselinenet import BaselineNetReg, BaselineNetNoReg\n",
    "from nets.lenet import LeNet\n",
    "from monai.networks.nets import DenseNet121\n",
    "from helpers import preprocessing as prep\n",
    "from helpers import miscellaneous as misc\n",
    "\n",
    "CONFIG = misc.get_config()\n",
    "COLORS = np.random.uniform(0, 255, size=(80, 3))"
   ]
  },
  {
   "cell_type": "code",
   "execution_count": null,
   "metadata": {
    "pycharm": {
     "name": "#%%\n"
    }
   },
   "outputs": [],
   "source": [
    "img_path = '../../data/raw/flattened/AprilFx16_dp.jpg'\n",
    "\n",
    "img = read_image(img_path).float()\n",
    "\n",
    "transformer, _  = prep.get_transformer('MonaiDense', img_resize=32)\n",
    "\n",
    "model_path = '../../models/DenseNet121_LR0.0001_CRCross Entropy_TRMonaiDense_OPAdam_BS8_EP20__ID_e0e4e329-fa9d-4d7b-8cf1-9a969f25b197.pth'\n",
    "model_checkpoint = torch.load(model_path, map_location=torch.device('cpu'))\n",
    "\n",
    "model = DenseNet121(spatial_dims=2, in_channels=1, out_channels=2).eval()\n",
    "model.load_state_dict(model_checkpoint)"
   ]
  },
  {
   "cell_type": "code",
   "execution_count": null,
   "metadata": {
    "pycharm": {
     "name": "#%%\n"
    }
   },
   "outputs": [],
   "source": [
    "from monai.transforms import (\n",
    "    Activations,\n",
    "    AddChannel,\n",
    "    AsDiscrete,\n",
    "    Compose,\n",
    "    LoadImage,\n",
    "    RandFlip,\n",
    "    RandRotate,\n",
    "    RandZoom,\n",
    "    ScaleIntensity,\n",
    "    EnsureType,\n",
    ")\n",
    "\n",
    "transformer = transforms.Compose(\n",
    "    [\n",
    "        ScaleIntensity(),\n",
    "        EnsureType(),\n",
    "        transforms.Grayscale(),\n",
    "        transforms.Resize((CONFIG['IMAGE_RESIZE'],CONFIG['IMAGE_RESIZE'])),\n",
    "    ]\n",
    ")\n"
   ]
  },
  {
   "cell_type": "code",
   "execution_count": 16,
   "metadata": {},
   "outputs": [
    {
     "name": "stdout",
     "output_type": "stream",
     "text": [
      "Collecting torchcam\n",
      "  Downloading torchcam-0.3.1-py3-none-any.whl (23 kB)\n",
      "Requirement already satisfied: matplotlib>=3.0.0 in c:\\users\\bruno\\anaconda3\\lib\\site-packages (from torchcam) (3.5.0)\n",
      "Requirement already satisfied: pillow>=8.3.2 in c:\\users\\bruno\\anaconda3\\lib\\site-packages (from torchcam) (8.4.0)\n",
      "Requirement already satisfied: numpy>=1.14.0 in c:\\users\\bruno\\anaconda3\\lib\\site-packages (from torchcam) (1.20.3)\n",
      "Requirement already satisfied: torch>=1.5.1 in c:\\users\\bruno\\anaconda3\\lib\\site-packages (from torchcam) (1.10.2+cu113)\n",
      "Requirement already satisfied: kiwisolver>=1.0.1 in c:\\users\\bruno\\anaconda3\\lib\\site-packages (from matplotlib>=3.0.0->torchcam) (1.3.1)\n",
      "Requirement already satisfied: python-dateutil>=2.7 in c:\\users\\bruno\\anaconda3\\lib\\site-packages (from matplotlib>=3.0.0->torchcam) (2.8.2)\n",
      "Requirement already satisfied: packaging>=20.0 in c:\\users\\bruno\\anaconda3\\lib\\site-packages (from matplotlib>=3.0.0->torchcam) (21.3)\n",
      "Requirement already satisfied: pyparsing>=2.2.1 in c:\\users\\bruno\\anaconda3\\lib\\site-packages (from matplotlib>=3.0.0->torchcam) (3.0.4)\n",
      "Requirement already satisfied: fonttools>=4.22.0 in c:\\users\\bruno\\anaconda3\\lib\\site-packages (from matplotlib>=3.0.0->torchcam) (4.25.0)\n",
      "Requirement already satisfied: cycler>=0.10 in c:\\users\\bruno\\anaconda3\\lib\\site-packages (from matplotlib>=3.0.0->torchcam) (0.11.0)\n",
      "Requirement already satisfied: six>=1.5 in c:\\users\\bruno\\anaconda3\\lib\\site-packages (from python-dateutil>=2.7->matplotlib>=3.0.0->torchcam) (1.16.0)\n",
      "Requirement already satisfied: typing-extensions in c:\\users\\bruno\\anaconda3\\lib\\site-packages (from torch>=1.5.1->torchcam) (4.1.1)\n",
      "Installing collected packages: torchcam\n",
      "Successfully installed torchcam-0.3.1\n"
     ]
    }
   ],
   "source": [
    "!pip install torchcam"
   ]
  },
  {
   "cell_type": "code",
   "execution_count": 17,
   "metadata": {
    "pycharm": {
     "name": "#%%\n"
    }
   },
   "outputs": [
    {
     "ename": "NameError",
     "evalue": "name 'model' is not defined",
     "output_type": "error",
     "traceback": [
      "\u001b[1;31m---------------------------------------------------------------------------\u001b[0m",
      "\u001b[1;31mNameError\u001b[0m                                 Traceback (most recent call last)",
      "Input \u001b[1;32mIn [17]\u001b[0m, in \u001b[0;36m<cell line: 3>\u001b[1;34m()\u001b[0m\n\u001b[0;32m      1\u001b[0m \u001b[38;5;28;01mfrom\u001b[39;00m \u001b[38;5;21;01mtorchcam\u001b[39;00m\u001b[38;5;21;01m.\u001b[39;00m\u001b[38;5;21;01mmethods\u001b[39;00m \u001b[38;5;28;01mimport\u001b[39;00m SmoothGradCAMpp\n\u001b[1;32m----> 3\u001b[0m cam_extractor \u001b[38;5;241m=\u001b[39m SmoothGradCAMpp(\u001b[43mmodel\u001b[49m, target_layer\u001b[38;5;241m=\u001b[39m[model\u001b[38;5;241m.\u001b[39mfeatures[\u001b[38;5;241m-\u001b[39m\u001b[38;5;241m1\u001b[39m]])\n\u001b[0;32m      4\u001b[0m \u001b[38;5;66;03m# Get your input\u001b[39;00m\n\u001b[0;32m      5\u001b[0m \u001b[38;5;66;03m# Preprocess it for your chosen model+\u001b[39;00m\n\u001b[0;32m      6\u001b[0m input_tensor \u001b[38;5;241m=\u001b[39m transformer(img)\n",
      "\u001b[1;31mNameError\u001b[0m: name 'model' is not defined"
     ]
    }
   ],
   "source": [
    "from torchcam.methods import SmoothGradCAMpp\n",
    "\n",
    "cam_extractor = SmoothGradCAMpp(model, target_layer=[model.features[-1]])\n",
    "# Get your input\n",
    "# Preprocess it for your chosen model+\n",
    "input_tensor = transformer(img)\n",
    "input_tensor = input_tensor.unsqueeze(dim=0)\n",
    "# Preprocess your data and feed it to the model\n",
    "out = model(input_tensor)\n",
    "# Retrieve the CAM by passing the class index and the model output\n",
    "activation_map = cam_extractor(out.squeeze(0).argmax().item(), out)"
   ]
  },
  {
   "cell_type": "code",
   "execution_count": null,
   "metadata": {
    "pycharm": {
     "name": "#%%\n"
    }
   },
   "outputs": [],
   "source": [
    "from torchvision.io.image import read_image\n",
    "from torchvision.transforms.functional import normalize, resize, to_pil_image\n",
    "from torchvision.models import resnet18\n",
    "import matplotlib.pyplot as plt\n",
    "from torchcam.utils import overlay_mask\n",
    "\n",
    "result = overlay_mask(to_pil_image(img), to_pil_image(activation_map[0].squeeze(0), mode='F'), alpha=0.5)\n",
    "# Display it\n",
    "plt.imshow(result); plt.axis('off'); plt.tight_layout(); plt.show()"
   ]
  },
  {
   "cell_type": "code",
   "execution_count": null,
   "metadata": {
    "pycharm": {
     "name": "#%%\n"
    }
   },
   "outputs": [],
   "source": [
    "img.size()"
   ]
  },
  {
   "cell_type": "code",
   "execution_count": null,
   "metadata": {
    "pycharm": {
     "name": "#%%\n"
    }
   },
   "outputs": [],
   "source": [
    "def grad_cam(model, trained_model_path, transformer_name, target_layer, image):\n",
    "    CONFIG = misc.get_config()\n",
    "\n",
    "    transformer, _  = prep.get_transformer(transformer_name)\n",
    "\n",
    "    model_checkpoint = torch.load(trained_model_path, map_location=torch.device('cpu'))\n",
    "\n",
    "    model = model.eval()\n",
    "    model.load_state_dict(model_checkpoint)\n",
    "\n",
    "    cam_extractor = SmoothGradCAMpp(model, target_layer=target_layer)\n",
    "\n",
    "    input_tensor = transformer(image)\n",
    "    input_tensor = input_tensor.unsqueeze(dim=0)\n",
    "\n",
    "    out = model(input_tensor)\n",
    "\n",
    "    activation_map = cam_extractor(out.squeeze(0).argmax().item(), out)\n",
    "\n",
    "    result = overlay_mask(to_pil_image(img), to_pil_image(activation_map[0].squeeze(0), mode='F'), alpha=0.5)\n",
    "    plt.imshow(result); plt.axis('off'); plt.tight_layout(); plt.show()\n",
    "\n",
    "grad_cam(model, model_path, 'MonaiDense', [model.features[-1]], img)"
   ]
  }
 ],
 "metadata": {
  "kernelspec": {
   "display_name": "Python 3 (ipykernel)",
   "language": "python",
   "name": "python3"
  },
  "language_info": {
   "codemirror_mode": {
    "name": "ipython",
    "version": 3
   },
   "file_extension": ".py",
   "mimetype": "text/x-python",
   "name": "python",
   "nbconvert_exporter": "python",
   "pygments_lexer": "ipython3",
   "version": "3.9.7"
  }
 },
 "nbformat": 4,
 "nbformat_minor": 1
}
